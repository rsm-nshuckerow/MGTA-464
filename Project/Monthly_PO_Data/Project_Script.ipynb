{
 "cells": [
  {
   "cell_type": "code",
   "execution_count": 50,
   "metadata": {},
   "outputs": [],
   "source": [
    "import snowflake.connector\n",
    "\n",
    "\n",
    "conn = snowflake.connector.connect(\n",
    "    user='shuckerow22',\n",
    "    password='NEpatriots12!',\n",
    "    account='sysdeyh-nhb69290',\n",
    "    warehouse='COMPUTE_WH',  # Specify the warehouse\n",
    "    database='WEATHER_ENVIRONMENT',  # Specify the database\n",
    "    schema='CYBERSYN'  # Specify the schema (can be created if doesn't exist)\n",
    "    )\n"
   ]
  },
  {
   "cell_type": "code",
   "execution_count": 51,
   "metadata": {},
   "outputs": [],
   "source": [
    "cs = conn.cursor()"
   ]
  },
  {
   "cell_type": "code",
   "execution_count": 37,
   "metadata": {},
   "outputs": [
    {
     "data": {
      "text/plain": [
       "<snowflake.connector.cursor.SnowflakeCursor at 0x7f43acce6590>"
      ]
     },
     "execution_count": 37,
     "metadata": {},
     "output_type": "execute_result"
    }
   ],
   "source": [
    "cs.execute(\"CREATE WAREHOUSE IF NOT EXISTS my_first_warehouse\")"
   ]
  },
  {
   "cell_type": "code",
   "execution_count": 7,
   "metadata": {},
   "outputs": [
    {
     "data": {
      "text/plain": [
       "<snowflake.connector.cursor.SnowflakeCursor at 0x7ff37acd0910>"
      ]
     },
     "execution_count": 7,
     "metadata": {},
     "output_type": "execute_result"
    }
   ],
   "source": [
    "cs.execute(\"CREATE DATABASE IF NOT EXISTS testdb\")"
   ]
  },
  {
   "cell_type": "code",
   "execution_count": 8,
   "metadata": {},
   "outputs": [
    {
     "ename": "ProgrammingError",
     "evalue": "090105 (22000): Cannot perform CREATE SCHEMA. This session does not have a current database. Call 'USE DATABASE', or use a qualified name.",
     "output_type": "error",
     "traceback": [
      "\u001b[0;31m---------------------------------------------------------------------------\u001b[0m",
      "\u001b[0;31mProgrammingError\u001b[0m                          Traceback (most recent call last)",
      "Cell \u001b[0;32mIn[8], line 1\u001b[0m\n\u001b[0;32m----> 1\u001b[0m \u001b[43mcs\u001b[49m\u001b[38;5;241;43m.\u001b[39;49m\u001b[43mexecute\u001b[49m\u001b[43m(\u001b[49m\u001b[38;5;124;43m\"\u001b[39;49m\u001b[38;5;124;43mCREATE SCHEMA IF NOT EXISTS testschema\u001b[39;49m\u001b[38;5;124;43m\"\u001b[39;49m\u001b[43m)\u001b[49m\n",
      "File \u001b[0;32m/opt/conda/lib/python3.11/site-packages/snowflake/connector/cursor.py:1087\u001b[0m, in \u001b[0;36mSnowflakeCursor.execute\u001b[0;34m(self, command, params, _bind_stage, timeout, _exec_async, _no_retry, _do_reset, _put_callback, _put_azure_callback, _put_callback_output_stream, _get_callback, _get_azure_callback, _get_callback_output_stream, _show_progress_bar, _statement_params, _is_internal, _describe_only, _no_results, _is_put_get, _raise_put_get_error, _force_put_overwrite, _skip_upload_on_content_match, file_stream, num_statements, _dataframe_ast)\u001b[0m\n\u001b[1;32m   1083\u001b[0m     is_integrity_error \u001b[38;5;241m=\u001b[39m (\n\u001b[1;32m   1084\u001b[0m         code \u001b[38;5;241m==\u001b[39m \u001b[38;5;124m\"\u001b[39m\u001b[38;5;124m100072\u001b[39m\u001b[38;5;124m\"\u001b[39m\n\u001b[1;32m   1085\u001b[0m     )  \u001b[38;5;66;03m# NULL result in a non-nullable column\u001b[39;00m\n\u001b[1;32m   1086\u001b[0m     error_class \u001b[38;5;241m=\u001b[39m IntegrityError \u001b[38;5;28;01mif\u001b[39;00m is_integrity_error \u001b[38;5;28;01melse\u001b[39;00m ProgrammingError\n\u001b[0;32m-> 1087\u001b[0m     \u001b[43mError\u001b[49m\u001b[38;5;241;43m.\u001b[39;49m\u001b[43merrorhandler_wrapper\u001b[49m\u001b[43m(\u001b[49m\u001b[38;5;28;43mself\u001b[39;49m\u001b[38;5;241;43m.\u001b[39;49m\u001b[43mconnection\u001b[49m\u001b[43m,\u001b[49m\u001b[43m \u001b[49m\u001b[38;5;28;43mself\u001b[39;49m\u001b[43m,\u001b[49m\u001b[43m \u001b[49m\u001b[43merror_class\u001b[49m\u001b[43m,\u001b[49m\u001b[43m \u001b[49m\u001b[43merrvalue\u001b[49m\u001b[43m)\u001b[49m\n\u001b[1;32m   1088\u001b[0m \u001b[38;5;28;01mreturn\u001b[39;00m \u001b[38;5;28mself\u001b[39m\n",
      "File \u001b[0;32m/opt/conda/lib/python3.11/site-packages/snowflake/connector/errors.py:284\u001b[0m, in \u001b[0;36mError.errorhandler_wrapper\u001b[0;34m(connection, cursor, error_class, error_value)\u001b[0m\n\u001b[1;32m    261\u001b[0m \u001b[38;5;129m@staticmethod\u001b[39m\n\u001b[1;32m    262\u001b[0m \u001b[38;5;28;01mdef\u001b[39;00m \u001b[38;5;21merrorhandler_wrapper\u001b[39m(\n\u001b[1;32m    263\u001b[0m     connection: SnowflakeConnection \u001b[38;5;241m|\u001b[39m \u001b[38;5;28;01mNone\u001b[39;00m,\n\u001b[0;32m   (...)\u001b[0m\n\u001b[1;32m    266\u001b[0m     error_value: \u001b[38;5;28mdict\u001b[39m[\u001b[38;5;28mstr\u001b[39m, Any],\n\u001b[1;32m    267\u001b[0m ) \u001b[38;5;241m-\u001b[39m\u001b[38;5;241m>\u001b[39m \u001b[38;5;28;01mNone\u001b[39;00m:\n\u001b[1;32m    268\u001b[0m \u001b[38;5;250m    \u001b[39m\u001b[38;5;124;03m\"\"\"Error handler wrapper that calls the errorhandler method.\u001b[39;00m\n\u001b[1;32m    269\u001b[0m \n\u001b[1;32m    270\u001b[0m \u001b[38;5;124;03m    Args:\u001b[39;00m\n\u001b[0;32m   (...)\u001b[0m\n\u001b[1;32m    281\u001b[0m \u001b[38;5;124;03m        exception to the first handler in that order.\u001b[39;00m\n\u001b[1;32m    282\u001b[0m \u001b[38;5;124;03m    \"\"\"\u001b[39;00m\n\u001b[0;32m--> 284\u001b[0m     handed_over \u001b[38;5;241m=\u001b[39m \u001b[43mError\u001b[49m\u001b[38;5;241;43m.\u001b[39;49m\u001b[43mhand_to_other_handler\u001b[49m\u001b[43m(\u001b[49m\n\u001b[1;32m    285\u001b[0m \u001b[43m        \u001b[49m\u001b[43mconnection\u001b[49m\u001b[43m,\u001b[49m\n\u001b[1;32m    286\u001b[0m \u001b[43m        \u001b[49m\u001b[43mcursor\u001b[49m\u001b[43m,\u001b[49m\n\u001b[1;32m    287\u001b[0m \u001b[43m        \u001b[49m\u001b[43merror_class\u001b[49m\u001b[43m,\u001b[49m\n\u001b[1;32m    288\u001b[0m \u001b[43m        \u001b[49m\u001b[43merror_value\u001b[49m\u001b[43m,\u001b[49m\n\u001b[1;32m    289\u001b[0m \u001b[43m    \u001b[49m\u001b[43m)\u001b[49m\n\u001b[1;32m    290\u001b[0m     \u001b[38;5;28;01mif\u001b[39;00m \u001b[38;5;129;01mnot\u001b[39;00m handed_over:\n\u001b[1;32m    291\u001b[0m         \u001b[38;5;28;01mraise\u001b[39;00m Error\u001b[38;5;241m.\u001b[39merrorhandler_make_exception(\n\u001b[1;32m    292\u001b[0m             error_class,\n\u001b[1;32m    293\u001b[0m             error_value,\n\u001b[1;32m    294\u001b[0m         )\n",
      "File \u001b[0;32m/opt/conda/lib/python3.11/site-packages/snowflake/connector/errors.py:339\u001b[0m, in \u001b[0;36mError.hand_to_other_handler\u001b[0;34m(connection, cursor, error_class, error_value)\u001b[0m\n\u001b[1;32m    337\u001b[0m \u001b[38;5;28;01mif\u001b[39;00m cursor \u001b[38;5;129;01mis\u001b[39;00m \u001b[38;5;129;01mnot\u001b[39;00m \u001b[38;5;28;01mNone\u001b[39;00m:\n\u001b[1;32m    338\u001b[0m     cursor\u001b[38;5;241m.\u001b[39mmessages\u001b[38;5;241m.\u001b[39mappend((error_class, error_value))\n\u001b[0;32m--> 339\u001b[0m     \u001b[43mcursor\u001b[49m\u001b[38;5;241;43m.\u001b[39;49m\u001b[43merrorhandler\u001b[49m\u001b[43m(\u001b[49m\u001b[43mconnection\u001b[49m\u001b[43m,\u001b[49m\u001b[43m \u001b[49m\u001b[43mcursor\u001b[49m\u001b[43m,\u001b[49m\u001b[43m \u001b[49m\u001b[43merror_class\u001b[49m\u001b[43m,\u001b[49m\u001b[43m \u001b[49m\u001b[43merror_value\u001b[49m\u001b[43m)\u001b[49m\n\u001b[1;32m    340\u001b[0m     \u001b[38;5;28;01mreturn\u001b[39;00m \u001b[38;5;28;01mTrue\u001b[39;00m\n\u001b[1;32m    341\u001b[0m \u001b[38;5;28;01melif\u001b[39;00m connection \u001b[38;5;129;01mis\u001b[39;00m \u001b[38;5;129;01mnot\u001b[39;00m \u001b[38;5;28;01mNone\u001b[39;00m:\n",
      "File \u001b[0;32m/opt/conda/lib/python3.11/site-packages/snowflake/connector/errors.py:215\u001b[0m, in \u001b[0;36mError.default_errorhandler\u001b[0;34m(connection, cursor, error_class, error_value)\u001b[0m\n\u001b[1;32m    213\u001b[0m errno \u001b[38;5;241m=\u001b[39m error_value\u001b[38;5;241m.\u001b[39mget(\u001b[38;5;124m\"\u001b[39m\u001b[38;5;124merrno\u001b[39m\u001b[38;5;124m\"\u001b[39m)\n\u001b[1;32m    214\u001b[0m done_format_msg \u001b[38;5;241m=\u001b[39m error_value\u001b[38;5;241m.\u001b[39mget(\u001b[38;5;124m\"\u001b[39m\u001b[38;5;124mdone_format_msg\u001b[39m\u001b[38;5;124m\"\u001b[39m)\n\u001b[0;32m--> 215\u001b[0m \u001b[38;5;28;01mraise\u001b[39;00m error_class(\n\u001b[1;32m    216\u001b[0m     msg\u001b[38;5;241m=\u001b[39merror_value\u001b[38;5;241m.\u001b[39mget(\u001b[38;5;124m\"\u001b[39m\u001b[38;5;124mmsg\u001b[39m\u001b[38;5;124m\"\u001b[39m),\n\u001b[1;32m    217\u001b[0m     errno\u001b[38;5;241m=\u001b[39m\u001b[38;5;28;01mNone\u001b[39;00m \u001b[38;5;28;01mif\u001b[39;00m errno \u001b[38;5;129;01mis\u001b[39;00m \u001b[38;5;28;01mNone\u001b[39;00m \u001b[38;5;28;01melse\u001b[39;00m \u001b[38;5;28mint\u001b[39m(errno),\n\u001b[1;32m    218\u001b[0m     sqlstate\u001b[38;5;241m=\u001b[39merror_value\u001b[38;5;241m.\u001b[39mget(\u001b[38;5;124m\"\u001b[39m\u001b[38;5;124msqlstate\u001b[39m\u001b[38;5;124m\"\u001b[39m),\n\u001b[1;32m    219\u001b[0m     sfqid\u001b[38;5;241m=\u001b[39merror_value\u001b[38;5;241m.\u001b[39mget(\u001b[38;5;124m\"\u001b[39m\u001b[38;5;124msfqid\u001b[39m\u001b[38;5;124m\"\u001b[39m),\n\u001b[1;32m    220\u001b[0m     query\u001b[38;5;241m=\u001b[39merror_value\u001b[38;5;241m.\u001b[39mget(\u001b[38;5;124m\"\u001b[39m\u001b[38;5;124mquery\u001b[39m\u001b[38;5;124m\"\u001b[39m),\n\u001b[1;32m    221\u001b[0m     done_format_msg\u001b[38;5;241m=\u001b[39m(\n\u001b[1;32m    222\u001b[0m         \u001b[38;5;28;01mNone\u001b[39;00m \u001b[38;5;28;01mif\u001b[39;00m done_format_msg \u001b[38;5;129;01mis\u001b[39;00m \u001b[38;5;28;01mNone\u001b[39;00m \u001b[38;5;28;01melse\u001b[39;00m \u001b[38;5;28mbool\u001b[39m(done_format_msg)\n\u001b[1;32m    223\u001b[0m     ),\n\u001b[1;32m    224\u001b[0m     connection\u001b[38;5;241m=\u001b[39mconnection,\n\u001b[1;32m    225\u001b[0m     cursor\u001b[38;5;241m=\u001b[39mcursor,\n\u001b[1;32m    226\u001b[0m )\n",
      "\u001b[0;31mProgrammingError\u001b[0m: 090105 (22000): Cannot perform CREATE SCHEMA. This session does not have a current database. Call 'USE DATABASE', or use a qualified name."
     ]
    }
   ],
   "source": [
    "cs.execute(\"CREATE SCHEMA IF NOT EXISTS testschema\")"
   ]
  },
  {
   "cell_type": "code",
   "execution_count": 10,
   "metadata": {},
   "outputs": [
    {
     "data": {
      "text/plain": [
       "<snowflake.connector.cursor.SnowflakeCursor at 0x7fc3f4d44050>"
      ]
     },
     "execution_count": 10,
     "metadata": {},
     "output_type": "execute_result"
    }
   ],
   "source": [
    "cs.execute(\"CREATE OR REPLACE TABLE test_table(col1 integer, col2 string)\")\n",
    "cs.execute(\"INSERT INTO test_table(col1, col2) VALUES (123, 'test string1'), (456, 'test string2')\")"
   ]
  },
  {
   "cell_type": "code",
   "execution_count": 18,
   "metadata": {},
   "outputs": [
    {
     "data": {
      "text/plain": [
       "<snowflake.connector.cursor.SnowflakeCursor at 0x7fc3f4d44050>"
      ]
     },
     "execution_count": 18,
     "metadata": {},
     "output_type": "execute_result"
    }
   ],
   "source": [
    "cs.execute('SELECT * FROM test_table')"
   ]
  },
  {
   "cell_type": "code",
   "execution_count": 19,
   "metadata": {},
   "outputs": [
    {
     "name": "stdout",
     "output_type": "stream",
     "text": [
      "   COL1          COL2\n",
      "0   123  test string1\n",
      "1   456  test string2\n"
     ]
    }
   ],
   "source": [
    "import pandas as pd\n",
    "\n",
    "rows = cs.fetchall()\n",
    "\n",
    "# Get the column names from the cursor description\n",
    "columns = [desc[0] for desc in cs.description]\n",
    "\n",
    "# Create a pandas DataFrame\n",
    "df = pd.DataFrame(rows, columns=columns)\n",
    "\n",
    "# Display the DataFrame (this automatically displays as a table in Jupyter or some IDEs)\n",
    "print(df)"
   ]
  },
  {
   "cell_type": "code",
   "execution_count": null,
   "metadata": {},
   "outputs": [],
   "source": [
    "import pandas as pd\n",
    "import os\n",
    "\n",
    "# Directory containing your CSV files (same location as your script)\n",
    "csv_directory = '.'  # Refers to the current directory\n",
    "\n",
    "# Loop through each file in the directory\n",
    "for filename in os.listdir(csv_directory):\n",
    "    if filename.endswith('.csv'):\n",
    "        # Load the CSV file\n",
    "        file_path = os.path.join(csv_directory, filename)\n",
    "        df = pd.read_csv(file_path)\n",
    "        \n",
    "        # Standardize the date format for 'OrderDate', 'ExpectedDeliveryDate', 'LastReceiptDate'\n",
    "        df['OrderDate'] = pd.to_datetime(df['OrderDate'], errors='coerce').dt.strftime('%m/%d/%Y')\n",
    "        df['ExpectedDeliveryDate'] = pd.to_datetime(df['ExpectedDeliveryDate'], errors='coerce').dt.strftime('%m/%d/%Y')\n",
    "        df['LastReceiptDate'] = pd.to_datetime(df['LastReceiptDate'], errors='coerce').dt.strftime('%m/%d/%Y')\n",
    "\n",
    "        # Standardize the timestamp format for 'LastEditedWhen' and 'Right_LastEditedWhen'\n",
    "        df['LastEditedWhen'] = pd.to_datetime(df['LastEditedWhen'], errors='coerce').dt.strftime('%m/%d/%Y %I:%M %p')\n",
    "        df['Right_LastEditedWhen'] = pd.to_datetime(df['Right_LastEditedWhen'], errors='coerce').dt.strftime('%m/%d/%Y %I:%M %p')\n",
    "        \n",
    "        # Save the cleaned CSV back to the same location\n",
    "        cleaned_file_path = os.path.join(csv_directory, 'cleaned_' + filename)\n",
    "        df.to_csv(cleaned_file_path, index=False)\n",
    "        print(f\"Processed {filename}\")\n"
   ]
  },
  {
   "cell_type": "code",
   "execution_count": 12,
   "metadata": {},
   "outputs": [
    {
     "data": {
      "text/plain": [
       "<snowflake.connector.cursor.SnowflakeCursor at 0x7ff379988250>"
      ]
     },
     "execution_count": 12,
     "metadata": {},
     "output_type": "execute_result"
    }
   ],
   "source": [
    "cs.execute(\"\"\"\n",
    "    CREATE OR REPLACE STAGE my_stage\n",
    "    FILE_FORMAT = (TYPE = 'CSV')\n",
    "\"\"\")"
   ]
  },
  {
   "cell_type": "code",
   "execution_count": 45,
   "metadata": {},
   "outputs": [
    {
     "name": "stdout",
     "output_type": "stream",
     "text": [
      "File cleaned_cleaned_2019-8.csv uploaded successfully.\n",
      "File cleaned_cleaned_2019-10.csv uploaded successfully.\n",
      "File cleaned_cleaned_2021-6.csv uploaded successfully.\n",
      "File cleaned_cleaned_2020-6.csv uploaded successfully.\n",
      "File cleaned_cleaned_2021-10.csv uploaded successfully.\n",
      "File cleaned_cleaned_2020-5.csv uploaded successfully.\n",
      "File cleaned_cleaned_2019-5.csv uploaded successfully.\n",
      "File cleaned_cleaned_2021-4.csv uploaded successfully.\n",
      "File cleaned_cleaned_2021-9.csv uploaded successfully.\n",
      "File cleaned_cleaned_2019-1.csv uploaded successfully.\n",
      "File cleaned_cleaned_2019-6.csv uploaded successfully.\n",
      "File cleaned_cleaned_2021-5.csv uploaded successfully.\n",
      "File cleaned_cleaned_2020-8.csv uploaded successfully.\n",
      "File cleaned_cleaned_2020-4.csv uploaded successfully.\n",
      "File cleaned_cleaned_2021-3.csv uploaded successfully.\n",
      "File cleaned_cleaned_2022-4.csv uploaded successfully.\n",
      "File cleaned_cleaned_2022-3.csv uploaded successfully.\n",
      "File cleaned_cleaned_2019-2.csv uploaded successfully.\n",
      "File cleaned_cleaned_2020-9.csv uploaded successfully.\n",
      "File cleaned_cleaned_2022-1.csv uploaded successfully.\n",
      "File cleaned_cleaned_2020-12.csv uploaded successfully.\n",
      "File cleaned_cleaned_2020-7.csv uploaded successfully.\n",
      "File cleaned_cleaned_2019-7.csv uploaded successfully.\n",
      "File cleaned_cleaned_2021-1.csv uploaded successfully.\n",
      "File cleaned_cleaned_2022-5.csv uploaded successfully.\n",
      "File cleaned_cleaned_2021-7.csv uploaded successfully.\n",
      "File cleaned_cleaned_2020-10.csv uploaded successfully.\n",
      "File cleaned_cleaned_2019-12.csv uploaded successfully.\n",
      "File cleaned_cleaned_2021-12.csv uploaded successfully.\n",
      "File cleaned_cleaned_2020-3.csv uploaded successfully.\n",
      "File cleaned_cleaned_2020-2.csv uploaded successfully.\n",
      "File cleaned_cleaned_2019-4.csv uploaded successfully.\n",
      "File cleaned_cleaned_2021-8.csv uploaded successfully.\n",
      "File cleaned_cleaned_2022-2.csv uploaded successfully.\n",
      "File cleaned_cleaned_2019-3.csv uploaded successfully.\n",
      "File cleaned_cleaned_2019-9.csv uploaded successfully.\n",
      "File cleaned_cleaned_2020-11.csv uploaded successfully.\n",
      "File cleaned_cleaned_2021-2.csv uploaded successfully.\n",
      "File cleaned_cleaned_2021-11.csv uploaded successfully.\n",
      "File cleaned_cleaned_2019-11.csv uploaded successfully.\n",
      "File cleaned_cleaned_2020-1.csv uploaded successfully.\n"
     ]
    }
   ],
   "source": [
    "import os\n",
    "\n",
    "# Directory where the cleaned CSV files are located\n",
    "csv_directory = '.'  # Current directory\n",
    "\n",
    "# Loop through and upload only files that start with 'cleaned_'\n",
    "for filename in os.listdir(csv_directory):\n",
    "    if filename.startswith('cleaned_cleaned_') and filename.endswith('.csv'):\n",
    "        # Build the full file path\n",
    "        full_file_path = os.path.join(csv_directory, filename)\n",
    "\n",
    "        # Prepare the PUT command for each file\n",
    "        upload_query = f\"\"\"\n",
    "            PUT file://{full_file_path} @my_stage;\n",
    "        \"\"\"\n",
    "\n",
    "        # Execute the query to upload the file\n",
    "        cs.execute(upload_query)\n",
    "        print(f\"File {filename} uploaded successfully.\")\n"
   ]
  },
  {
   "cell_type": "code",
   "execution_count": 64,
   "metadata": {},
   "outputs": [
    {
     "name": "stdout",
     "output_type": "stream",
     "text": [
      "Table created successfully.\n"
     ]
    }
   ],
   "source": [
    "create_table_query = \"\"\"\n",
    "    CREATE OR REPLACE TABLE purchase_orders (\n",
    "        PurchaseOrderID INT,\n",
    "        SupplierID INT,\n",
    "        OrderDate DATE,\n",
    "        DeliveryMethodID INT,\n",
    "        ContactPersonID INT,\n",
    "        ExpectedDeliveryDate DATE,\n",
    "        SupplierReference STRING,\n",
    "        IsOrderFinalized BOOLEAN,\n",
    "        Comments STRING,\n",
    "        InternalComments STRING,\n",
    "        LastEditedBy INT,\n",
    "        LastEditedWhen TIMESTAMP,\n",
    "        PurchaseOrderLineID INT,\n",
    "        StockItemID INT,\n",
    "        OrderedOuters INT,\n",
    "        Description STRING,\n",
    "        ReceivedOuters INT,\n",
    "        PackageTypeID INT,\n",
    "        ExpectedUnitPricePerOuter FLOAT,\n",
    "        LastReceiptDate DATE,\n",
    "        IsOrderLineFinalized BOOLEAN,\n",
    "        Right_LastEditedBy INT,\n",
    "        Right_LastEditedWhen TIMESTAMP\n",
    "    );\n",
    "\"\"\"\n",
    "cs.execute(create_table_query)\n",
    "print(\"Table created successfully.\")"
   ]
  },
  {
   "cell_type": "code",
   "execution_count": 13,
   "metadata": {},
   "outputs": [
    {
     "name": "stdout",
     "output_type": "stream",
     "text": [
      "All files removed from the stage.\n"
     ]
    }
   ],
   "source": [
    "# Command to remove all files from the Snowflake stage\n",
    "remove_stage_query = \"REMOVE @my_stage;\"\n",
    "\n",
    "# Execute the REMOVE command to clear the stage\n",
    "cs.execute(remove_stage_query)\n",
    "print(\"All files removed from the stage.\")\n"
   ]
  },
  {
   "cell_type": "code",
   "execution_count": 65,
   "metadata": {},
   "outputs": [
    {
     "name": "stdout",
     "output_type": "stream",
     "text": [
      "Data loaded into table successfully.\n"
     ]
    }
   ],
   "source": [
    "load_data_query = \"\"\"\n",
    "    COPY INTO purchase_orders\n",
    "    FROM @my_stage\n",
    "    FILE_FORMAT = (\n",
    "        TYPE = 'CSV',\n",
    "        SKIP_HEADER = 1,\n",
    "        DATE_FORMAT = 'MM/DD/YYYY',\n",
    "        TIME_FORMAT = 'HH12:MI AM',\n",
    "        TIMESTAMP_FORMAT = 'MM/DD/YYYY HH12:MI AM',\n",
    "        FIELD_OPTIONALLY_ENCLOSED_BY = '\"',  -- To handle commas and newlines inside quoted fields\n",
    "        ESCAPE_UNENCLOSED_FIELD = None       -- To handle special characters\n",
    "    );\n",
    "\"\"\"\n",
    "cs.execute(load_data_query)\n",
    "print(\"Data loaded into table successfully.\")"
   ]
  },
  {
   "cell_type": "code",
   "execution_count": 52,
   "metadata": {},
   "outputs": [
    {
     "name": "stdout",
     "output_type": "stream",
     "text": [
      "   PURCHASEORDERID  SUPPLIERID   ORDERDATE  DELIVERYMETHODID  CONTACTPERSONID  \\\n",
      "0                1           2  2019-01-01                 9                2   \n",
      "1                1           2  2019-01-01                 9                2   \n",
      "2                1           2  2019-01-01                 9                2   \n",
      "3               10          10  2019-01-02                 8                2   \n",
      "4               11          12  2019-01-02                 7                2   \n",
      "5               11          12  2019-01-02                 7                2   \n",
      "6               11          12  2019-01-02                 7                2   \n",
      "7               12           4  2019-01-03                 7                2   \n",
      "8               12           4  2019-01-03                 7                2   \n",
      "9               12           4  2019-01-03                 7                2   \n",
      "\n",
      "  EXPECTEDDELIVERYDATE SUPPLIERREFERENCE  ISORDERFINALIZED COMMENTS  \\\n",
      "0           2019-01-15          B2084020              True     None   \n",
      "1           2019-01-15          B2084020              True     None   \n",
      "2           2019-01-15          B2084020              True     None   \n",
      "3           2019-01-22         ML0300202              True     None   \n",
      "4           2019-01-22         237408032              True     None   \n",
      "5           2019-01-22         237408032              True     None   \n",
      "6           2019-01-22         237408032              True     None   \n",
      "7           2019-01-23            293092              True     None   \n",
      "8           2019-01-23            293092              True     None   \n",
      "9           2019-01-23            293092              True     None   \n",
      "\n",
      "  INTERNALCOMMENTS  ...  STOCKITEMID ORDEREDOUTERS  \\\n",
      "0             None  ...          150            18   \n",
      "1             None  ...          151            21   \n",
      "2             None  ...          152            18   \n",
      "3             None  ...           60            83   \n",
      "4             None  ...            1            88   \n",
      "5             None  ...            3            15   \n",
      "6             None  ...           15           196   \n",
      "7             None  ...           77            11   \n",
      "8             None  ...          101             5   \n",
      "9             None  ...          108             6   \n",
      "\n",
      "                                         DESCRIPTION  RECEIVEDOUTERS  \\\n",
      "0                Pack of 12 action figures (variety)              18   \n",
      "1                   Pack of 12 action figures (male)              21   \n",
      "2                 Pack of 12 action figures (female)              18   \n",
      "3  RC toy sedan car with remote control (Blue) 1/...              83   \n",
      "4                       USB missile launcher (Green)              88   \n",
      "5                      Office cube periscope (Black)              15   \n",
      "6  USB food flash drive - dessert 10 drive variet...             196   \n",
      "7     \"The Gu\" red shirt XML tag t-shirt (White) XXS              11   \n",
      "8     \"The Gu\" red shirt XML tag t-shirt (Black) 7XL               5   \n",
      "9                 Superhero action jacket (Blue) XXS               6   \n",
      "\n",
      "   PACKAGETYPEID EXPECTEDUNITPRICEPEROUTER  LASTRECEIPTDATE  \\\n",
      "0              9                       5.5       2019-01-02   \n",
      "1              9                       5.5       2019-01-02   \n",
      "2              9                       5.5       2019-01-02   \n",
      "3              7                      12.5       2019-01-03   \n",
      "4              7                       9.5       2019-01-03   \n",
      "5              6                     112.5       2019-01-03   \n",
      "6              9                      88.5       2019-01-03   \n",
      "7              6                      84.0       2019-01-04   \n",
      "8              6                     102.0       2019-01-04   \n",
      "9              7                      19.0       2019-01-04   \n",
      "\n",
      "   ISORDERLINEFINALIZED  RIGHT_LASTEDITEDBY RIGHT_LASTEDITEDWHEN  \n",
      "0                  True                   6  2019-01-02 07:00:00  \n",
      "1                  True                   6  2019-01-02 07:00:00  \n",
      "2                  True                   6  2019-01-02 07:00:00  \n",
      "3                  True                   5  2019-01-03 07:00:00  \n",
      "4                  True                   5  2019-01-03 07:00:00  \n",
      "5                  True                   5  2019-01-03 07:00:00  \n",
      "6                  True                   5  2019-01-03 07:00:00  \n",
      "7                  True                   3  2019-01-04 07:00:00  \n",
      "8                  True                   3  2019-01-04 07:00:00  \n",
      "9                  True                   3  2019-01-04 07:00:00  \n",
      "\n",
      "[10 rows x 23 columns]\n"
     ]
    }
   ],
   "source": [
    "cs.execute(\"SELECT * FROM purchase_orders LIMIT 10\")\n",
    "\n",
    "rows = cs.fetchall()\n",
    "\n",
    "# Get the column names from the cursor description\n",
    "columns = [desc[0] for desc in cs.description]\n",
    "\n",
    "# Create a pandas DataFrame\n",
    "df = pd.DataFrame(rows, columns=columns)\n",
    "\n",
    "# Display the DataFrame (this automatically displays as a table in Jupyter or some IDEs)\n",
    "print(df)"
   ]
  },
  {
   "cell_type": "code",
   "execution_count": 66,
   "metadata": {},
   "outputs": [
    {
     "data": {
      "text/plain": [
       "<snowflake.connector.cursor.SnowflakeCursor at 0x7ff379988250>"
      ]
     },
     "execution_count": 66,
     "metadata": {},
     "output_type": "execute_result"
    }
   ],
   "source": [
    "cs.execute(\"ALTER TABLE purchase_orders DROP COLUMN Comments, InternalComments\")\n"
   ]
  },
  {
   "cell_type": "markdown",
   "metadata": {},
   "source": [
    "Create a calculated field that shows purchase order totals, i.e., for each order, sum the line-item amounts (defined as ReceivedOuters * ExpectedUnitPricePerOuter), and name this field POAmount"
   ]
  },
  {
   "cell_type": "code",
   "execution_count": null,
   "metadata": {},
   "outputs": [],
   "source": [
    "cs.execute(\"ALTER TABLE purchase_orders ADD COLUMN POAmount FLOAT\")"
   ]
  },
  {
   "cell_type": "code",
   "execution_count": 75,
   "metadata": {},
   "outputs": [
    {
     "data": {
      "text/plain": [
       "<snowflake.connector.cursor.SnowflakeCursor at 0x7ff379988250>"
      ]
     },
     "execution_count": 75,
     "metadata": {},
     "output_type": "execute_result"
    }
   ],
   "source": [
    "cs.execute(\"UPDATE purchase_orders SET POAmount = (ReceivedOuters * ExpectedUnitPricePerOuter)\")"
   ]
  },
  {
   "cell_type": "markdown",
   "metadata": {},
   "source": [
    "# Load the supplier invoice XML data (you will again first stage the data and then move it into a table)\n",
    "a.\tshred the data into a table (preferably in the COPY INTO process) where each row corresponds to a single invoice\n",
    "\n",
    "b.\tMake sure to examine the structure of the XML file and also try different functions such as GETXML, GET, PARSE_XML, FLATTEN, etc. \n",
    "\n",
    "c.\tWhen building your query to shred the data, try to keep it as simple as possible at first and only attempt to extract a single element or only try a single SQL clause or function to see what it produces. \n"
   ]
  },
  {
   "cell_type": "code",
   "execution_count": 136,
   "metadata": {},
   "outputs": [
    {
     "data": {
      "text/plain": [
       "<snowflake.connector.cursor.SnowflakeCursor at 0x7ff378e7bd90>"
      ]
     },
     "execution_count": 136,
     "metadata": {},
     "output_type": "execute_result"
    }
   ],
   "source": [
    "cs.execute(\"PUT file://../Supplier_Transactions_XML.xml @my_stage AUTO_COMPRESS=TRUE;\")"
   ]
  },
  {
   "cell_type": "code",
   "execution_count": 151,
   "metadata": {},
   "outputs": [
    {
     "data": {
      "text/plain": [
       "<snowflake.connector.cursor.SnowflakeCursor at 0x7ff378e7bd90>"
      ]
     },
     "execution_count": 151,
     "metadata": {},
     "output_type": "execute_result"
    }
   ],
   "source": [
    "cs.execute(\"CREATE OR REPLACE TABLE supplier_transactions_raw (src VARIANT);\")\n"
   ]
  },
  {
   "cell_type": "code",
   "execution_count": 152,
   "metadata": {},
   "outputs": [
    {
     "data": {
      "text/plain": [
       "<snowflake.connector.cursor.SnowflakeCursor at 0x7ff378e7bd90>"
      ]
     },
     "execution_count": 152,
     "metadata": {},
     "output_type": "execute_result"
    }
   ],
   "source": [
    "a = \"\"\"COPY INTO supplier_transactions_raw\n",
    "FROM @my_stage\n",
    "FILE_FORMAT = (TYPE = XML);\n",
    "\"\"\"\n",
    "\n",
    "cs.execute(a)"
   ]
  },
  {
   "cell_type": "code",
   "execution_count": 153,
   "metadata": {},
   "outputs": [
    {
     "name": "stdout",
     "output_type": "stream",
     "text": [
      "                                                 SRC\n",
      "0  <root>\\n  <row>\\n    <SupplierTransactionID>13...\n"
     ]
    }
   ],
   "source": [
    "b = \"\"\"SELECT src\n",
    "FROM supplier_transactions_raw\n",
    "LIMIT 5;\n",
    "\"\"\"\n",
    "\n",
    "cs.execute(b)\n",
    "\n",
    "rows = cs.fetchall()\n",
    "\n",
    "# Get the column names from the cursor description\n",
    "columns = [desc[0] for desc in cs.description]\n",
    "\n",
    "# Create a pandas DataFrame\n",
    "df = pd.DataFrame(rows, columns=columns)\n",
    "\n",
    "# Display the DataFrame (this automatically displays as a table in Jupyter or some IDEs)\n",
    "print(df)"
   ]
  },
  {
   "cell_type": "code",
   "execution_count": 157,
   "metadata": {},
   "outputs": [
    {
     "ename": "ProgrammingError",
     "evalue": "001003 (42000): SQL compilation error:\nsyntax error line 8 at position 38 unexpected 'row'.\nsyntax error line 8 at position 37 unexpected '.'.",
     "output_type": "error",
     "traceback": [
      "\u001b[0;31m---------------------------------------------------------------------------\u001b[0m",
      "\u001b[0;31mProgrammingError\u001b[0m                          Traceback (most recent call last)",
      "Cell \u001b[0;32mIn[157], line 13\u001b[0m\n\u001b[1;32m      1\u001b[0m c \u001b[38;5;241m=\u001b[39m \u001b[38;5;124m\"\"\"\u001b[39m\n\u001b[1;32m      2\u001b[0m \u001b[38;5;124mWITH xml_data AS (\u001b[39m\n\u001b[1;32m      3\u001b[0m \u001b[38;5;124m    SELECT raw_xml:root AS root_content\u001b[39m\n\u001b[0;32m   (...)\u001b[0m\n\u001b[1;32m     10\u001b[0m \n\u001b[1;32m     11\u001b[0m \u001b[38;5;124m\"\"\"\u001b[39m\n\u001b[0;32m---> 13\u001b[0m \u001b[43mcs\u001b[49m\u001b[38;5;241;43m.\u001b[39;49m\u001b[43mexecute\u001b[49m\u001b[43m(\u001b[49m\u001b[43mc\u001b[49m\u001b[43m)\u001b[49m\n\u001b[1;32m     15\u001b[0m rows \u001b[38;5;241m=\u001b[39m cs\u001b[38;5;241m.\u001b[39mfetchall()\n\u001b[1;32m     17\u001b[0m \u001b[38;5;66;03m# Get the column names from the cursor description\u001b[39;00m\n",
      "File \u001b[0;32m/opt/conda/lib/python3.11/site-packages/snowflake/connector/cursor.py:1087\u001b[0m, in \u001b[0;36mSnowflakeCursor.execute\u001b[0;34m(self, command, params, _bind_stage, timeout, _exec_async, _no_retry, _do_reset, _put_callback, _put_azure_callback, _put_callback_output_stream, _get_callback, _get_azure_callback, _get_callback_output_stream, _show_progress_bar, _statement_params, _is_internal, _describe_only, _no_results, _is_put_get, _raise_put_get_error, _force_put_overwrite, _skip_upload_on_content_match, file_stream, num_statements, _dataframe_ast)\u001b[0m\n\u001b[1;32m   1083\u001b[0m     is_integrity_error \u001b[38;5;241m=\u001b[39m (\n\u001b[1;32m   1084\u001b[0m         code \u001b[38;5;241m==\u001b[39m \u001b[38;5;124m\"\u001b[39m\u001b[38;5;124m100072\u001b[39m\u001b[38;5;124m\"\u001b[39m\n\u001b[1;32m   1085\u001b[0m     )  \u001b[38;5;66;03m# NULL result in a non-nullable column\u001b[39;00m\n\u001b[1;32m   1086\u001b[0m     error_class \u001b[38;5;241m=\u001b[39m IntegrityError \u001b[38;5;28;01mif\u001b[39;00m is_integrity_error \u001b[38;5;28;01melse\u001b[39;00m ProgrammingError\n\u001b[0;32m-> 1087\u001b[0m     \u001b[43mError\u001b[49m\u001b[38;5;241;43m.\u001b[39;49m\u001b[43merrorhandler_wrapper\u001b[49m\u001b[43m(\u001b[49m\u001b[38;5;28;43mself\u001b[39;49m\u001b[38;5;241;43m.\u001b[39;49m\u001b[43mconnection\u001b[49m\u001b[43m,\u001b[49m\u001b[43m \u001b[49m\u001b[38;5;28;43mself\u001b[39;49m\u001b[43m,\u001b[49m\u001b[43m \u001b[49m\u001b[43merror_class\u001b[49m\u001b[43m,\u001b[49m\u001b[43m \u001b[49m\u001b[43merrvalue\u001b[49m\u001b[43m)\u001b[49m\n\u001b[1;32m   1088\u001b[0m \u001b[38;5;28;01mreturn\u001b[39;00m \u001b[38;5;28mself\u001b[39m\n",
      "File \u001b[0;32m/opt/conda/lib/python3.11/site-packages/snowflake/connector/errors.py:284\u001b[0m, in \u001b[0;36mError.errorhandler_wrapper\u001b[0;34m(connection, cursor, error_class, error_value)\u001b[0m\n\u001b[1;32m    261\u001b[0m \u001b[38;5;129m@staticmethod\u001b[39m\n\u001b[1;32m    262\u001b[0m \u001b[38;5;28;01mdef\u001b[39;00m \u001b[38;5;21merrorhandler_wrapper\u001b[39m(\n\u001b[1;32m    263\u001b[0m     connection: SnowflakeConnection \u001b[38;5;241m|\u001b[39m \u001b[38;5;28;01mNone\u001b[39;00m,\n\u001b[0;32m   (...)\u001b[0m\n\u001b[1;32m    266\u001b[0m     error_value: \u001b[38;5;28mdict\u001b[39m[\u001b[38;5;28mstr\u001b[39m, Any],\n\u001b[1;32m    267\u001b[0m ) \u001b[38;5;241m-\u001b[39m\u001b[38;5;241m>\u001b[39m \u001b[38;5;28;01mNone\u001b[39;00m:\n\u001b[1;32m    268\u001b[0m \u001b[38;5;250m    \u001b[39m\u001b[38;5;124;03m\"\"\"Error handler wrapper that calls the errorhandler method.\u001b[39;00m\n\u001b[1;32m    269\u001b[0m \n\u001b[1;32m    270\u001b[0m \u001b[38;5;124;03m    Args:\u001b[39;00m\n\u001b[0;32m   (...)\u001b[0m\n\u001b[1;32m    281\u001b[0m \u001b[38;5;124;03m        exception to the first handler in that order.\u001b[39;00m\n\u001b[1;32m    282\u001b[0m \u001b[38;5;124;03m    \"\"\"\u001b[39;00m\n\u001b[0;32m--> 284\u001b[0m     handed_over \u001b[38;5;241m=\u001b[39m \u001b[43mError\u001b[49m\u001b[38;5;241;43m.\u001b[39;49m\u001b[43mhand_to_other_handler\u001b[49m\u001b[43m(\u001b[49m\n\u001b[1;32m    285\u001b[0m \u001b[43m        \u001b[49m\u001b[43mconnection\u001b[49m\u001b[43m,\u001b[49m\n\u001b[1;32m    286\u001b[0m \u001b[43m        \u001b[49m\u001b[43mcursor\u001b[49m\u001b[43m,\u001b[49m\n\u001b[1;32m    287\u001b[0m \u001b[43m        \u001b[49m\u001b[43merror_class\u001b[49m\u001b[43m,\u001b[49m\n\u001b[1;32m    288\u001b[0m \u001b[43m        \u001b[49m\u001b[43merror_value\u001b[49m\u001b[43m,\u001b[49m\n\u001b[1;32m    289\u001b[0m \u001b[43m    \u001b[49m\u001b[43m)\u001b[49m\n\u001b[1;32m    290\u001b[0m     \u001b[38;5;28;01mif\u001b[39;00m \u001b[38;5;129;01mnot\u001b[39;00m handed_over:\n\u001b[1;32m    291\u001b[0m         \u001b[38;5;28;01mraise\u001b[39;00m Error\u001b[38;5;241m.\u001b[39merrorhandler_make_exception(\n\u001b[1;32m    292\u001b[0m             error_class,\n\u001b[1;32m    293\u001b[0m             error_value,\n\u001b[1;32m    294\u001b[0m         )\n",
      "File \u001b[0;32m/opt/conda/lib/python3.11/site-packages/snowflake/connector/errors.py:339\u001b[0m, in \u001b[0;36mError.hand_to_other_handler\u001b[0;34m(connection, cursor, error_class, error_value)\u001b[0m\n\u001b[1;32m    337\u001b[0m \u001b[38;5;28;01mif\u001b[39;00m cursor \u001b[38;5;129;01mis\u001b[39;00m \u001b[38;5;129;01mnot\u001b[39;00m \u001b[38;5;28;01mNone\u001b[39;00m:\n\u001b[1;32m    338\u001b[0m     cursor\u001b[38;5;241m.\u001b[39mmessages\u001b[38;5;241m.\u001b[39mappend((error_class, error_value))\n\u001b[0;32m--> 339\u001b[0m     \u001b[43mcursor\u001b[49m\u001b[38;5;241;43m.\u001b[39;49m\u001b[43merrorhandler\u001b[49m\u001b[43m(\u001b[49m\u001b[43mconnection\u001b[49m\u001b[43m,\u001b[49m\u001b[43m \u001b[49m\u001b[43mcursor\u001b[49m\u001b[43m,\u001b[49m\u001b[43m \u001b[49m\u001b[43merror_class\u001b[49m\u001b[43m,\u001b[49m\u001b[43m \u001b[49m\u001b[43merror_value\u001b[49m\u001b[43m)\u001b[49m\n\u001b[1;32m    340\u001b[0m     \u001b[38;5;28;01mreturn\u001b[39;00m \u001b[38;5;28;01mTrue\u001b[39;00m\n\u001b[1;32m    341\u001b[0m \u001b[38;5;28;01melif\u001b[39;00m connection \u001b[38;5;129;01mis\u001b[39;00m \u001b[38;5;129;01mnot\u001b[39;00m \u001b[38;5;28;01mNone\u001b[39;00m:\n",
      "File \u001b[0;32m/opt/conda/lib/python3.11/site-packages/snowflake/connector/errors.py:215\u001b[0m, in \u001b[0;36mError.default_errorhandler\u001b[0;34m(connection, cursor, error_class, error_value)\u001b[0m\n\u001b[1;32m    213\u001b[0m errno \u001b[38;5;241m=\u001b[39m error_value\u001b[38;5;241m.\u001b[39mget(\u001b[38;5;124m\"\u001b[39m\u001b[38;5;124merrno\u001b[39m\u001b[38;5;124m\"\u001b[39m)\n\u001b[1;32m    214\u001b[0m done_format_msg \u001b[38;5;241m=\u001b[39m error_value\u001b[38;5;241m.\u001b[39mget(\u001b[38;5;124m\"\u001b[39m\u001b[38;5;124mdone_format_msg\u001b[39m\u001b[38;5;124m\"\u001b[39m)\n\u001b[0;32m--> 215\u001b[0m \u001b[38;5;28;01mraise\u001b[39;00m error_class(\n\u001b[1;32m    216\u001b[0m     msg\u001b[38;5;241m=\u001b[39merror_value\u001b[38;5;241m.\u001b[39mget(\u001b[38;5;124m\"\u001b[39m\u001b[38;5;124mmsg\u001b[39m\u001b[38;5;124m\"\u001b[39m),\n\u001b[1;32m    217\u001b[0m     errno\u001b[38;5;241m=\u001b[39m\u001b[38;5;28;01mNone\u001b[39;00m \u001b[38;5;28;01mif\u001b[39;00m errno \u001b[38;5;129;01mis\u001b[39;00m \u001b[38;5;28;01mNone\u001b[39;00m \u001b[38;5;28;01melse\u001b[39;00m \u001b[38;5;28mint\u001b[39m(errno),\n\u001b[1;32m    218\u001b[0m     sqlstate\u001b[38;5;241m=\u001b[39merror_value\u001b[38;5;241m.\u001b[39mget(\u001b[38;5;124m\"\u001b[39m\u001b[38;5;124msqlstate\u001b[39m\u001b[38;5;124m\"\u001b[39m),\n\u001b[1;32m    219\u001b[0m     sfqid\u001b[38;5;241m=\u001b[39merror_value\u001b[38;5;241m.\u001b[39mget(\u001b[38;5;124m\"\u001b[39m\u001b[38;5;124msfqid\u001b[39m\u001b[38;5;124m\"\u001b[39m),\n\u001b[1;32m    220\u001b[0m     query\u001b[38;5;241m=\u001b[39merror_value\u001b[38;5;241m.\u001b[39mget(\u001b[38;5;124m\"\u001b[39m\u001b[38;5;124mquery\u001b[39m\u001b[38;5;124m\"\u001b[39m),\n\u001b[1;32m    221\u001b[0m     done_format_msg\u001b[38;5;241m=\u001b[39m(\n\u001b[1;32m    222\u001b[0m         \u001b[38;5;28;01mNone\u001b[39;00m \u001b[38;5;28;01mif\u001b[39;00m done_format_msg \u001b[38;5;129;01mis\u001b[39;00m \u001b[38;5;28;01mNone\u001b[39;00m \u001b[38;5;28;01melse\u001b[39;00m \u001b[38;5;28mbool\u001b[39m(done_format_msg)\n\u001b[1;32m    223\u001b[0m     ),\n\u001b[1;32m    224\u001b[0m     connection\u001b[38;5;241m=\u001b[39mconnection,\n\u001b[1;32m    225\u001b[0m     cursor\u001b[38;5;241m=\u001b[39mcursor,\n\u001b[1;32m    226\u001b[0m )\n",
      "\u001b[0;31mProgrammingError\u001b[0m: 001003 (42000): SQL compilation error:\nsyntax error line 8 at position 38 unexpected 'row'.\nsyntax error line 8 at position 37 unexpected '.'."
     ]
    }
   ],
   "source": [
    "c = \"\"\"\n",
    "WITH xml_data AS (\n",
    "    SELECT raw_xml:root AS root_content\n",
    "    FROM supplier_transactions_raw\n",
    ")\n",
    "SELECT\n",
    "    XMLGET(f.value, 'SupplierID')::NUMBER AS SupplierID\n",
    "FROM xml_data,\n",
    "LATERAL FLATTEN(input => root_content.row) f;\n",
    "\n",
    "\"\"\"\n",
    "\n",
    "cs.execute(c)\n",
    "\n",
    "rows = cs.fetchall()\n",
    "\n",
    "# Get the column names from the cursor description\n",
    "columns = [desc[0] for desc in cs.description]\n",
    "\n",
    "# Create a pandas DataFrame\n",
    "df = pd.DataFrame(rows, columns=columns)\n",
    "\n",
    "# Display the DataFrame (this automatically displays as a table in Jupyter or some IDEs)\n",
    "print(df)\n"
   ]
  },
  {
   "cell_type": "markdown",
   "metadata": {},
   "source": [
    "I was not able to parse the XML file using the COPY INTO command. "
   ]
  },
  {
   "cell_type": "code",
   "execution_count": 3,
   "metadata": {},
   "outputs": [
    {
     "name": "stdout",
     "output_type": "stream",
     "text": [
      "     SupplierTransactionID SupplierID TransactionTypeID PurchaseOrderID  \\\n",
      "0                      134          2                 5               1   \n",
      "1                      169          4                 5               2   \n",
      "2                      186          5                 5               3   \n",
      "3                      215          7                 5               4   \n",
      "4                      224         10                 5               5   \n",
      "...                    ...        ...               ...             ...   \n",
      "2433                335510          4                 5            2070   \n",
      "2434                335511          4                 7            None   \n",
      "2435                335512          7                 7            None   \n",
      "2436                335843          4                 5            2071   \n",
      "2437                335847          7                 5            2072   \n",
      "\n",
      "     PaymentMethodID SupplierInvoiceNumber TransactionDate AmountExcludingTax  \\\n",
      "0                  4                  7290      2019-01-02             313.50   \n",
      "1                  4                  3898      2019-01-02           21732.00   \n",
      "2                  4                   616      2019-01-02            2740.50   \n",
      "3                  4                  3869      2019-01-02           42481.20   \n",
      "4                  4                  4697      2019-01-02           35067.50   \n",
      "...              ...                   ...             ...                ...   \n",
      "2433               4                  6305      2022-05-30            1164.00   \n",
      "2434               4                  None      2022-05-30               0.00   \n",
      "2435               4                  None      2022-05-30               0.00   \n",
      "2436               4                  1105      2022-05-31         1627734.00   \n",
      "2437               4                  5948      2022-05-31          738942.70   \n",
      "\n",
      "      TaxAmount TransactionAmount OutstandingBalance FinalizationDate  \\\n",
      "0         47.03            360.53               0.00       2019-01-07   \n",
      "1       3259.80          24991.80               0.00       2019-01-07   \n",
      "2        411.11           3151.61               0.00       2019-01-07   \n",
      "3       6372.19          48853.39               0.00       2019-01-07   \n",
      "4       5260.14          40327.64               0.00       2019-01-07   \n",
      "...         ...               ...                ...              ...   \n",
      "2433     174.60           1338.60               0.00       2022-05-30   \n",
      "2434       0.00       -9313012.80               0.00       2022-05-30   \n",
      "2435       0.00       -4222310.45               0.00       2022-05-30   \n",
      "2436  244160.10        1871894.10         1871894.10             None   \n",
      "2437  110841.41         849784.11          849784.11             None   \n",
      "\n",
      "     IsFinalized LastEditedBy               LastEditedWhen  \n",
      "0              1            4  2019-01-07 09:00:00.0000000  \n",
      "1              1            4  2019-01-07 09:00:00.0000000  \n",
      "2              1            4  2019-01-07 09:00:00.0000000  \n",
      "3              1            4  2019-01-07 09:00:00.0000000  \n",
      "4              1            4  2019-01-07 09:00:00.0000000  \n",
      "...          ...          ...                          ...  \n",
      "2433           1            7  2022-05-30 09:00:00.0000000  \n",
      "2434           1            7  2022-05-30 09:00:00.0000000  \n",
      "2435           1            7  2022-05-30 09:00:00.0000000  \n",
      "2436           0           16  2022-05-31 07:00:00.0000000  \n",
      "2437           0           16  2022-05-31 07:00:00.0000000  \n",
      "\n",
      "[2438 rows x 15 columns]\n"
     ]
    }
   ],
   "source": [
    "import xml.etree.ElementTree as ET\n",
    "import pandas as pd\n",
    "\n",
    "# Step 1: Parse the XML file\n",
    "tree = ET.parse('../Supplier_Transactions_XML.xml')  # Replace with your actual XML file path\n",
    "root = tree.getroot()\n",
    "\n",
    "# Step 2: Create an empty list to store the extracted data\n",
    "data = []\n",
    "\n",
    "# Step 3: Loop through each row in the XML and extract the data\n",
    "for row in root.findall('row'):\n",
    "    SupplierTransactionID = row.find('SupplierTransactionID').text\n",
    "    SupplierID = row.find('SupplierID').text\n",
    "    TransactionTypeID = row.find('TransactionTypeID').text\n",
    "    PurchaseOrderID = row.find('PurchaseOrderID').text\n",
    "    PaymentMethodID = row.find('PaymentMethodID').text\n",
    "    SupplierInvoiceNumber = row.find('SupplierInvoiceNumber').text\n",
    "    TransactionDate = row.find('TransactionDate').text\n",
    "    AmountExcludingTax = row.find('AmountExcludingTax').text\n",
    "    TaxAmount = row.find('TaxAmount').text\n",
    "    TransactionAmount = row.find('TransactionAmount').text\n",
    "    OutstandingBalance = row.find('OutstandingBalance').text\n",
    "    FinalizationDate = row.find('FinalizationDate').text\n",
    "    IsFinalized = row.find('IsFinalized').text\n",
    "    LastEditedBy = row.find('LastEditedBy').text\n",
    "    LastEditedWhen = row.find('LastEditedWhen').text\n",
    "\n",
    "    # Append the extracted data to the list\n",
    "    data.append({\n",
    "        'SupplierTransactionID': SupplierTransactionID,\n",
    "        'SupplierID': SupplierID,\n",
    "        'TransactionTypeID': TransactionTypeID,\n",
    "        'PurchaseOrderID': PurchaseOrderID,\n",
    "        'PaymentMethodID': PaymentMethodID,\n",
    "        'SupplierInvoiceNumber': SupplierInvoiceNumber,\n",
    "        'TransactionDate': TransactionDate,\n",
    "        'AmountExcludingTax': AmountExcludingTax,\n",
    "        'TaxAmount': TaxAmount,\n",
    "        'TransactionAmount': TransactionAmount,\n",
    "        'OutstandingBalance': OutstandingBalance,\n",
    "        'FinalizationDate': FinalizationDate,\n",
    "        'IsFinalized': IsFinalized,\n",
    "        'LastEditedBy': LastEditedBy,\n",
    "        'LastEditedWhen': LastEditedWhen\n",
    "    })\n",
    "\n",
    "# Step 4: Convert the list of dictionaries to a pandas DataFrame\n",
    "df = pd.DataFrame(data)\n",
    "\n",
    "# Step 5: Display the DataFrame\n",
    "print(df)\n",
    "\n",
    "\n"
   ]
  },
  {
   "cell_type": "code",
   "execution_count": 6,
   "metadata": {},
   "outputs": [],
   "source": [
    "df.to_csv('supplier_transactions.csv', index=False)"
   ]
  },
  {
   "cell_type": "code",
   "execution_count": 14,
   "metadata": {},
   "outputs": [
    {
     "data": {
      "text/plain": [
       "<snowflake.connector.cursor.SnowflakeCursor at 0x7f7a0f05d190>"
      ]
     },
     "execution_count": 14,
     "metadata": {},
     "output_type": "execute_result"
    }
   ],
   "source": [
    "cs.execute(\"PUT file://supplier_transactions.csv @my_stage AUTO_COMPRESS=TRUE;\")"
   ]
  },
  {
   "cell_type": "code",
   "execution_count": 15,
   "metadata": {},
   "outputs": [
    {
     "data": {
      "text/plain": [
       "<snowflake.connector.cursor.SnowflakeCursor at 0x7f7a0f05d190>"
      ]
     },
     "execution_count": 15,
     "metadata": {},
     "output_type": "execute_result"
    }
   ],
   "source": [
    "create_query = \"\"\"CREATE OR REPLACE TABLE supplier_transactions (\n",
    "    SupplierTransactionID INT,\n",
    "    SupplierID INT,\n",
    "    TransactionTypeID INT,\n",
    "    PurchaseOrderID FLOAT,\n",
    "    PaymentMethodID INT,\n",
    "    SupplierInvoiceNumber FLOAT,\n",
    "    TransactionDate DATE,\n",
    "    AmountExcludingTax FLOAT,\n",
    "    TaxAmount FLOAT,\n",
    "    TransactionAmount FLOAT,\n",
    "    OutstandingBalance FLOAT,\n",
    "    FinalizationDate DATE,\n",
    "    IsFinalized BOOLEAN,\n",
    "    LastEditedBy INT,\n",
    "    LastEditedWhen TIMESTAMP\n",
    ");\n",
    "\"\"\"\n",
    "\n",
    "cs.execute(create_query)"
   ]
  },
  {
   "cell_type": "code",
   "execution_count": 17,
   "metadata": {},
   "outputs": [
    {
     "data": {
      "text/plain": [
       "<snowflake.connector.cursor.SnowflakeCursor at 0x7f7a0f05d190>"
      ]
     },
     "execution_count": 17,
     "metadata": {},
     "output_type": "execute_result"
    }
   ],
   "source": [
    "load_data_query = \"\"\"\n",
    "    COPY INTO supplier_transactions\n",
    "    FROM @my_stage\n",
    "    FILE_FORMAT = (\n",
    "    TYPE = 'CSV',\n",
    "    SKIP_HEADER = 1,\n",
    "    DATE_FORMAT = 'YYYY-MM-DD',  -- Adjusted to match the date format in your CSV\n",
    "    TIME_FORMAT = 'HH12:MI AM',\n",
    "    TIMESTAMP_FORMAT = 'YYYY-MM-DD HH12:MI:SS.FF',  -- Adjusted timestamp format\n",
    "    FIELD_OPTIONALLY_ENCLOSED_BY = '\"',  -- To handle commas and newlines inside quoted fields\n",
    "    ESCAPE_UNENCLOSED_FIELD = None       -- To handle special characters\n",
    ");\n",
    "\"\"\"\n",
    "cs.execute(load_data_query)"
   ]
  },
  {
   "cell_type": "code",
   "execution_count": 23,
   "metadata": {},
   "outputs": [
    {
     "data": {
      "text/plain": [
       "<snowflake.connector.cursor.SnowflakeCursor at 0x7f7a0f05d190>"
      ]
     },
     "execution_count": 23,
     "metadata": {},
     "output_type": "execute_result"
    }
   ],
   "source": [
    "create_table = \"\"\"CREATE OR REPLACE TABLE purchases_grouped AS\n",
    "    SELECT PurchaseOrderID, SupplierID, SUM(POAmount) AS POAmount\n",
    "    FROM purchase_orders\n",
    "    GROUP BY PurchaseOrderID, SupplierID\n",
    ";\n",
    "\"\"\"\n",
    "\n",
    "cs.execute(create_table)"
   ]
  },
  {
   "cell_type": "code",
   "execution_count": 28,
   "metadata": {},
   "outputs": [
    {
     "data": {
      "text/plain": [
       "<snowflake.connector.cursor.SnowflakeCursor at 0x7f7a0f05d190>"
      ]
     },
     "execution_count": 28,
     "metadata": {},
     "output_type": "execute_result"
    }
   ],
   "source": [
    "create_table = \"\"\"CREATE OR REPLACE TABLE purchases_invoices AS\n",
    "    SELECT A.PurchaseOrderID, A.SupplierID, A.POAmount, B.AmountExcludingTax, B.TaxAmount, B.TransactionAmount\n",
    "    FROM purchases_grouped A\n",
    "    JOIN supplier_transactions B\n",
    "    ON A.PurchaseOrderID = B.PurchaseOrderID\n",
    ";\n",
    "\"\"\"\n",
    "\n",
    "cs.execute(create_table)"
   ]
  },
  {
   "cell_type": "code",
   "execution_count": 29,
   "metadata": {},
   "outputs": [
    {
     "data": {
      "text/plain": [
       "<snowflake.connector.cursor.SnowflakeCursor at 0x7f7a0f05d190>"
      ]
     },
     "execution_count": 29,
     "metadata": {},
     "output_type": "execute_result"
    }
   ],
   "source": [
    "create_view = \"\"\"CREATE VIEW purchases_orders_and_invoices AS\n",
    "    SELECT *, (AmountExcludingTax - POAmount) AS \"Invoiced vs. Quoted\"\n",
    "    FROM purchases_invoices\n",
    ";\n",
    "\"\"\"\n",
    "\n",
    "cs.execute(create_view)"
   ]
  },
  {
   "cell_type": "code",
   "execution_count": 1,
   "metadata": {},
   "outputs": [],
   "source": [
    "import psycopg2\n",
    "\n",
    "# Step 1: Connect to PostgreSQL\n",
    "conn = psycopg2.connect(\n",
    "    host=\"127.0.0.1\",\n",
    "    port=\"8765\",\n",
    "    database=\"WestCoastImporters\", \n",
    "    user=\"jovyan\", \n",
    "    password=\"postgres\"\n",
    ")\n",
    "\n",
    "# Step 2: Create a cursor object\n",
    "cur = conn.cursor()\n"
   ]
  },
  {
   "cell_type": "code",
   "execution_count": 2,
   "metadata": {},
   "outputs": [
    {
     "name": "stdout",
     "output_type": "stream",
     "text": [
      "Data exported to supplier_case_data.csv\n"
     ]
    }
   ],
   "source": [
    "local_file_path = 'supplier_case_data.csv'\n",
    "\n",
    "copy_sql = \"\"\"\n",
    "COPY supplier_case TO STDOUT WITH CSV HEADER DELIMITER ',';\n",
    "\"\"\"\n",
    "\n",
    "# Step 4: Open a file and execute the copy command, writing the output to a file\n",
    "with open(local_file_path, 'w') as f_output:\n",
    "    cur.copy_expert(copy_sql, f_output)\n",
    "\n",
    "# Close the cursor and connection\n",
    "cur.close()\n",
    "conn.close()\n",
    "\n",
    "print(f\"Data exported to {local_file_path}\")"
   ]
  },
  {
   "cell_type": "code",
   "execution_count": 14,
   "metadata": {},
   "outputs": [
    {
     "name": "stdout",
     "output_type": "stream",
     "text": [
      "All files removed from the stage.\n"
     ]
    }
   ],
   "source": [
    "# Command to remove all files from the Snowflake stage\n",
    "remove_stage_query = \"REMOVE @my_stage;\"\n",
    "\n",
    "# Execute the REMOVE command to clear the stage\n",
    "cs.execute(remove_stage_query)\n",
    "print(\"All files removed from the stage.\")\n"
   ]
  },
  {
   "cell_type": "code",
   "execution_count": 7,
   "metadata": {},
   "outputs": [
    {
     "data": {
      "text/plain": [
       "<snowflake.connector.cursor.SnowflakeCursor at 0x7f43ace3e0d0>"
      ]
     },
     "execution_count": 7,
     "metadata": {},
     "output_type": "execute_result"
    }
   ],
   "source": [
    "cs.execute(\"PUT file://supplier_case_data.csv @my_stage AUTO_COMPRESS=TRUE;\")"
   ]
  },
  {
   "cell_type": "code",
   "execution_count": 8,
   "metadata": {},
   "outputs": [
    {
     "data": {
      "text/plain": [
       "<snowflake.connector.cursor.SnowflakeCursor at 0x7f43ace3e0d0>"
      ]
     },
     "execution_count": 8,
     "metadata": {},
     "output_type": "execute_result"
    }
   ],
   "source": [
    "create_query = \"\"\"CREATE OR REPLACE TABLE supplier_case (\n",
    "    supplierid INT,\n",
    "    suppliername STRING,\n",
    "    suppliercategoryid INT,\n",
    "    primarycontactpersonid INT,\n",
    "    alternatecontactpersonid INT,\n",
    "    deliverymethodid FLOAT,\n",
    "    postalcityid INT,\n",
    "    supplierreference STRING,\n",
    "    bankaccountname STRING,\n",
    "    bankaccountbranch STRING,\n",
    "    bankaccountcode INT,\n",
    "    bankaccountnumber INT,\n",
    "    bankinternationalcode INT,\n",
    "    paymentdays INT,\n",
    "    internalcomments STRING,\n",
    "    phonenumber STRING,\n",
    "    faxnumber STRING,\n",
    "    websiteurl STRING,\n",
    "    deliveryaddressline1 STRING,\n",
    "    deliveryaddressline2 STRING,\n",
    "    deliverypostalcode INT,\n",
    "    deliverylocation STRING,\n",
    "    postaladdressline1 STRING,\n",
    "    postaladdressline2 STRING,\n",
    "    postalpostalcode INT,\n",
    "    lasteditedby INT,\n",
    "    validfrom TIME,  -- This might need to be adjusted to DATE if it's actual date-time data\n",
    "    validto STRING     -- Adjust to appropriate format if needed\n",
    ");\n",
    "\"\"\"\n",
    "\n",
    "cs.execute(create_query)"
   ]
  },
  {
   "cell_type": "code",
   "execution_count": 10,
   "metadata": {},
   "outputs": [
    {
     "data": {
      "text/plain": [
       "<snowflake.connector.cursor.SnowflakeCursor at 0x7f43ace3e0d0>"
      ]
     },
     "execution_count": 10,
     "metadata": {},
     "output_type": "execute_result"
    }
   ],
   "source": [
    "load_data_query = \"\"\"\n",
    "    COPY INTO supplier_case\n",
    "    FROM @my_stage\n",
    "    FILE_FORMAT = (\n",
    "    TYPE = 'CSV',\n",
    "    SKIP_HEADER = 1,\n",
    "    DATE_FORMAT = 'YYYY-MM-DD',  -- Adjusted to match the date format in your CSV\n",
    "    TIME_FORMAT = 'HH:MI.SS.FF',\n",
    "    TIMESTAMP_FORMAT = 'YYYY-MM-DD HH12:MI:SS.FF',  -- Adjusted timestamp format\n",
    "    FIELD_OPTIONALLY_ENCLOSED_BY = '\"',  -- To handle commas and newlines inside quoted fields\n",
    "    ESCAPE_UNENCLOSED_FIELD = None       -- To handle special characters\n",
    ");\n",
    "\"\"\"\n",
    "cs.execute(load_data_query)"
   ]
  },
  {
   "cell_type": "markdown",
   "metadata": {},
   "source": [
    "TXT File"
   ]
  },
  {
   "cell_type": "code",
   "execution_count": 15,
   "metadata": {},
   "outputs": [
    {
     "data": {
      "text/plain": [
       "<snowflake.connector.cursor.SnowflakeCursor at 0x7f43a767b710>"
      ]
     },
     "execution_count": 15,
     "metadata": {},
     "output_type": "execute_result"
    }
   ],
   "source": [
    "cs.execute(\"PUT file://../2021_Gaz_zcta_national.txt @my_stage AUTO_COMPRESS=TRUE;\")"
   ]
  },
  {
   "cell_type": "code",
   "execution_count": 16,
   "metadata": {},
   "outputs": [
    {
     "data": {
      "text/plain": [
       "<snowflake.connector.cursor.SnowflakeCursor at 0x7f43a767b710>"
      ]
     },
     "execution_count": 16,
     "metadata": {},
     "output_type": "execute_result"
    }
   ],
   "source": [
    "create_query = \"\"\"CREATE OR REPLACE TABLE geo_table (\n",
    "    GEOID STRING,             -- Assuming the GEOID is treated as a string (can contain leading zeros)\n",
    "    ALAND BIGINT,             -- ALAND is a large integer representing area in square meters\n",
    "    AWATER BIGINT,            -- AWATER is a large integer representing water area in square meters\n",
    "    ALAND_SQMI FLOAT,         -- ALAND_SQMI is a floating-point number representing area in square miles\n",
    "    AWATER_SQMI FLOAT,        -- AWATER_SQMI is a floating-point number representing water area in square miles\n",
    "    INTPTLAT FLOAT,           -- INTPTLAT is a floating-point number for the latitude\n",
    "    INTPTLONG FLOAT           -- INTPTLONG is a floating-point number for the longitude\n",
    ");\n",
    "\n",
    "\"\"\"\n",
    "\n",
    "cs.execute(create_query)"
   ]
  },
  {
   "cell_type": "code",
   "execution_count": 18,
   "metadata": {},
   "outputs": [
    {
     "data": {
      "text/plain": [
       "<snowflake.connector.cursor.SnowflakeCursor at 0x7f43a767b710>"
      ]
     },
     "execution_count": 18,
     "metadata": {},
     "output_type": "execute_result"
    }
   ],
   "source": [
    "load_data_query = \"\"\"\n",
    "    COPY INTO geo_table\n",
    "    FROM @my_stage\n",
    "    FILE_FORMAT = (\n",
    "        TYPE = 'CSV',\n",
    "        SKIP_HEADER = 1,\n",
    "        FIELD_DELIMITER = '\\t',  -- Assuming the file is tab-delimited\n",
    "        FIELD_OPTIONALLY_ENCLOSED_BY = '\"',\n",
    "        DATE_FORMAT = 'YYYY-MM-DD',  -- Adjust to match any date columns (if present)\n",
    "        TIME_FORMAT = 'HH:MI.SS.FF',  -- Adjust to match time columns (if present)\n",
    "        TIMESTAMP_FORMAT = 'YYYY-MM-DD HH12:MI:SS.FF'  -- Adjust timestamp format if applicable\n",
    "    );\n",
    "\"\"\"\n",
    "cs.execute(load_data_query)\n"
   ]
  },
  {
   "cell_type": "code",
   "execution_count": 19,
   "metadata": {},
   "outputs": [],
   "source": [
    "a = \"\"\"SELECT *\n",
    "FROM testdb.testschema.geo_table AS t1\n",
    "JOIN weather_environment.cybersyn.noaa_weather_station_index AS t2\n",
    "ON ROUND(t1.intplat, 4) = t2.latitude;\"\"\"\n",
    "\n"
   ]
  },
  {
   "cell_type": "code",
   "execution_count": 20,
   "metadata": {},
   "outputs": [
    {
     "ename": "ProgrammingError",
     "evalue": "002003 (02000): SQL compilation error:\nDatabase 'WEATHER_ENVIRONMENT' does not exist or not authorized.",
     "output_type": "error",
     "traceback": [
      "\u001b[0;31m---------------------------------------------------------------------------\u001b[0m",
      "\u001b[0;31mProgrammingError\u001b[0m                          Traceback (most recent call last)",
      "Cell \u001b[0;32mIn[20], line 1\u001b[0m\n\u001b[0;32m----> 1\u001b[0m \u001b[43mcs\u001b[49m\u001b[38;5;241;43m.\u001b[39;49m\u001b[43mexecute\u001b[49m\u001b[43m(\u001b[49m\u001b[43ma\u001b[49m\u001b[43m)\u001b[49m\n\u001b[1;32m      3\u001b[0m rows \u001b[38;5;241m=\u001b[39m cs\u001b[38;5;241m.\u001b[39mfetchall()\n\u001b[1;32m      5\u001b[0m \u001b[38;5;66;03m# Get the column names from the cursor description\u001b[39;00m\n",
      "File \u001b[0;32m/opt/conda/lib/python3.11/site-packages/snowflake/connector/cursor.py:1087\u001b[0m, in \u001b[0;36mSnowflakeCursor.execute\u001b[0;34m(self, command, params, _bind_stage, timeout, _exec_async, _no_retry, _do_reset, _put_callback, _put_azure_callback, _put_callback_output_stream, _get_callback, _get_azure_callback, _get_callback_output_stream, _show_progress_bar, _statement_params, _is_internal, _describe_only, _no_results, _is_put_get, _raise_put_get_error, _force_put_overwrite, _skip_upload_on_content_match, file_stream, num_statements, _dataframe_ast)\u001b[0m\n\u001b[1;32m   1083\u001b[0m     is_integrity_error \u001b[38;5;241m=\u001b[39m (\n\u001b[1;32m   1084\u001b[0m         code \u001b[38;5;241m==\u001b[39m \u001b[38;5;124m\"\u001b[39m\u001b[38;5;124m100072\u001b[39m\u001b[38;5;124m\"\u001b[39m\n\u001b[1;32m   1085\u001b[0m     )  \u001b[38;5;66;03m# NULL result in a non-nullable column\u001b[39;00m\n\u001b[1;32m   1086\u001b[0m     error_class \u001b[38;5;241m=\u001b[39m IntegrityError \u001b[38;5;28;01mif\u001b[39;00m is_integrity_error \u001b[38;5;28;01melse\u001b[39;00m ProgrammingError\n\u001b[0;32m-> 1087\u001b[0m     \u001b[43mError\u001b[49m\u001b[38;5;241;43m.\u001b[39;49m\u001b[43merrorhandler_wrapper\u001b[49m\u001b[43m(\u001b[49m\u001b[38;5;28;43mself\u001b[39;49m\u001b[38;5;241;43m.\u001b[39;49m\u001b[43mconnection\u001b[49m\u001b[43m,\u001b[49m\u001b[43m \u001b[49m\u001b[38;5;28;43mself\u001b[39;49m\u001b[43m,\u001b[49m\u001b[43m \u001b[49m\u001b[43merror_class\u001b[49m\u001b[43m,\u001b[49m\u001b[43m \u001b[49m\u001b[43merrvalue\u001b[49m\u001b[43m)\u001b[49m\n\u001b[1;32m   1088\u001b[0m \u001b[38;5;28;01mreturn\u001b[39;00m \u001b[38;5;28mself\u001b[39m\n",
      "File \u001b[0;32m/opt/conda/lib/python3.11/site-packages/snowflake/connector/errors.py:284\u001b[0m, in \u001b[0;36mError.errorhandler_wrapper\u001b[0;34m(connection, cursor, error_class, error_value)\u001b[0m\n\u001b[1;32m    261\u001b[0m \u001b[38;5;129m@staticmethod\u001b[39m\n\u001b[1;32m    262\u001b[0m \u001b[38;5;28;01mdef\u001b[39;00m \u001b[38;5;21merrorhandler_wrapper\u001b[39m(\n\u001b[1;32m    263\u001b[0m     connection: SnowflakeConnection \u001b[38;5;241m|\u001b[39m \u001b[38;5;28;01mNone\u001b[39;00m,\n\u001b[0;32m   (...)\u001b[0m\n\u001b[1;32m    266\u001b[0m     error_value: \u001b[38;5;28mdict\u001b[39m[\u001b[38;5;28mstr\u001b[39m, Any],\n\u001b[1;32m    267\u001b[0m ) \u001b[38;5;241m-\u001b[39m\u001b[38;5;241m>\u001b[39m \u001b[38;5;28;01mNone\u001b[39;00m:\n\u001b[1;32m    268\u001b[0m \u001b[38;5;250m    \u001b[39m\u001b[38;5;124;03m\"\"\"Error handler wrapper that calls the errorhandler method.\u001b[39;00m\n\u001b[1;32m    269\u001b[0m \n\u001b[1;32m    270\u001b[0m \u001b[38;5;124;03m    Args:\u001b[39;00m\n\u001b[0;32m   (...)\u001b[0m\n\u001b[1;32m    281\u001b[0m \u001b[38;5;124;03m        exception to the first handler in that order.\u001b[39;00m\n\u001b[1;32m    282\u001b[0m \u001b[38;5;124;03m    \"\"\"\u001b[39;00m\n\u001b[0;32m--> 284\u001b[0m     handed_over \u001b[38;5;241m=\u001b[39m \u001b[43mError\u001b[49m\u001b[38;5;241;43m.\u001b[39;49m\u001b[43mhand_to_other_handler\u001b[49m\u001b[43m(\u001b[49m\n\u001b[1;32m    285\u001b[0m \u001b[43m        \u001b[49m\u001b[43mconnection\u001b[49m\u001b[43m,\u001b[49m\n\u001b[1;32m    286\u001b[0m \u001b[43m        \u001b[49m\u001b[43mcursor\u001b[49m\u001b[43m,\u001b[49m\n\u001b[1;32m    287\u001b[0m \u001b[43m        \u001b[49m\u001b[43merror_class\u001b[49m\u001b[43m,\u001b[49m\n\u001b[1;32m    288\u001b[0m \u001b[43m        \u001b[49m\u001b[43merror_value\u001b[49m\u001b[43m,\u001b[49m\n\u001b[1;32m    289\u001b[0m \u001b[43m    \u001b[49m\u001b[43m)\u001b[49m\n\u001b[1;32m    290\u001b[0m     \u001b[38;5;28;01mif\u001b[39;00m \u001b[38;5;129;01mnot\u001b[39;00m handed_over:\n\u001b[1;32m    291\u001b[0m         \u001b[38;5;28;01mraise\u001b[39;00m Error\u001b[38;5;241m.\u001b[39merrorhandler_make_exception(\n\u001b[1;32m    292\u001b[0m             error_class,\n\u001b[1;32m    293\u001b[0m             error_value,\n\u001b[1;32m    294\u001b[0m         )\n",
      "File \u001b[0;32m/opt/conda/lib/python3.11/site-packages/snowflake/connector/errors.py:339\u001b[0m, in \u001b[0;36mError.hand_to_other_handler\u001b[0;34m(connection, cursor, error_class, error_value)\u001b[0m\n\u001b[1;32m    337\u001b[0m \u001b[38;5;28;01mif\u001b[39;00m cursor \u001b[38;5;129;01mis\u001b[39;00m \u001b[38;5;129;01mnot\u001b[39;00m \u001b[38;5;28;01mNone\u001b[39;00m:\n\u001b[1;32m    338\u001b[0m     cursor\u001b[38;5;241m.\u001b[39mmessages\u001b[38;5;241m.\u001b[39mappend((error_class, error_value))\n\u001b[0;32m--> 339\u001b[0m     \u001b[43mcursor\u001b[49m\u001b[38;5;241;43m.\u001b[39;49m\u001b[43merrorhandler\u001b[49m\u001b[43m(\u001b[49m\u001b[43mconnection\u001b[49m\u001b[43m,\u001b[49m\u001b[43m \u001b[49m\u001b[43mcursor\u001b[49m\u001b[43m,\u001b[49m\u001b[43m \u001b[49m\u001b[43merror_class\u001b[49m\u001b[43m,\u001b[49m\u001b[43m \u001b[49m\u001b[43merror_value\u001b[49m\u001b[43m)\u001b[49m\n\u001b[1;32m    340\u001b[0m     \u001b[38;5;28;01mreturn\u001b[39;00m \u001b[38;5;28;01mTrue\u001b[39;00m\n\u001b[1;32m    341\u001b[0m \u001b[38;5;28;01melif\u001b[39;00m connection \u001b[38;5;129;01mis\u001b[39;00m \u001b[38;5;129;01mnot\u001b[39;00m \u001b[38;5;28;01mNone\u001b[39;00m:\n",
      "File \u001b[0;32m/opt/conda/lib/python3.11/site-packages/snowflake/connector/errors.py:215\u001b[0m, in \u001b[0;36mError.default_errorhandler\u001b[0;34m(connection, cursor, error_class, error_value)\u001b[0m\n\u001b[1;32m    213\u001b[0m errno \u001b[38;5;241m=\u001b[39m error_value\u001b[38;5;241m.\u001b[39mget(\u001b[38;5;124m\"\u001b[39m\u001b[38;5;124merrno\u001b[39m\u001b[38;5;124m\"\u001b[39m)\n\u001b[1;32m    214\u001b[0m done_format_msg \u001b[38;5;241m=\u001b[39m error_value\u001b[38;5;241m.\u001b[39mget(\u001b[38;5;124m\"\u001b[39m\u001b[38;5;124mdone_format_msg\u001b[39m\u001b[38;5;124m\"\u001b[39m)\n\u001b[0;32m--> 215\u001b[0m \u001b[38;5;28;01mraise\u001b[39;00m error_class(\n\u001b[1;32m    216\u001b[0m     msg\u001b[38;5;241m=\u001b[39merror_value\u001b[38;5;241m.\u001b[39mget(\u001b[38;5;124m\"\u001b[39m\u001b[38;5;124mmsg\u001b[39m\u001b[38;5;124m\"\u001b[39m),\n\u001b[1;32m    217\u001b[0m     errno\u001b[38;5;241m=\u001b[39m\u001b[38;5;28;01mNone\u001b[39;00m \u001b[38;5;28;01mif\u001b[39;00m errno \u001b[38;5;129;01mis\u001b[39;00m \u001b[38;5;28;01mNone\u001b[39;00m \u001b[38;5;28;01melse\u001b[39;00m \u001b[38;5;28mint\u001b[39m(errno),\n\u001b[1;32m    218\u001b[0m     sqlstate\u001b[38;5;241m=\u001b[39merror_value\u001b[38;5;241m.\u001b[39mget(\u001b[38;5;124m\"\u001b[39m\u001b[38;5;124msqlstate\u001b[39m\u001b[38;5;124m\"\u001b[39m),\n\u001b[1;32m    219\u001b[0m     sfqid\u001b[38;5;241m=\u001b[39merror_value\u001b[38;5;241m.\u001b[39mget(\u001b[38;5;124m\"\u001b[39m\u001b[38;5;124msfqid\u001b[39m\u001b[38;5;124m\"\u001b[39m),\n\u001b[1;32m    220\u001b[0m     query\u001b[38;5;241m=\u001b[39merror_value\u001b[38;5;241m.\u001b[39mget(\u001b[38;5;124m\"\u001b[39m\u001b[38;5;124mquery\u001b[39m\u001b[38;5;124m\"\u001b[39m),\n\u001b[1;32m    221\u001b[0m     done_format_msg\u001b[38;5;241m=\u001b[39m(\n\u001b[1;32m    222\u001b[0m         \u001b[38;5;28;01mNone\u001b[39;00m \u001b[38;5;28;01mif\u001b[39;00m done_format_msg \u001b[38;5;129;01mis\u001b[39;00m \u001b[38;5;28;01mNone\u001b[39;00m \u001b[38;5;28;01melse\u001b[39;00m \u001b[38;5;28mbool\u001b[39m(done_format_msg)\n\u001b[1;32m    223\u001b[0m     ),\n\u001b[1;32m    224\u001b[0m     connection\u001b[38;5;241m=\u001b[39mconnection,\n\u001b[1;32m    225\u001b[0m     cursor\u001b[38;5;241m=\u001b[39mcursor,\n\u001b[1;32m    226\u001b[0m )\n",
      "\u001b[0;31mProgrammingError\u001b[0m: 002003 (02000): SQL compilation error:\nDatabase 'WEATHER_ENVIRONMENT' does not exist or not authorized."
     ]
    }
   ],
   "source": [
    "cs.execute(a)\n",
    "\n",
    "rows = cs.fetchall()\n",
    "\n",
    "# Get the column names from the cursor description\n",
    "columns = [desc[0] for desc in cs.description]\n",
    "\n",
    "# Create a pandas DataFrame\n",
    "df = pd.DataFrame(rows, columns=columns)\n",
    "\n",
    "# Display the DataFrame (this automatically displays as a table in Jupyter or some IDEs)\n",
    "print(df)"
   ]
  },
  {
   "cell_type": "code",
   "execution_count": 64,
   "metadata": {},
   "outputs": [
    {
     "ename": "ProgrammingError",
     "evalue": "002043 (02000): SQL compilation error:\nObject does not exist, or operation cannot be performed.",
     "output_type": "error",
     "traceback": [
      "\u001b[0;31m---------------------------------------------------------------------------\u001b[0m",
      "\u001b[0;31mProgrammingError\u001b[0m                          Traceback (most recent call last)",
      "Cell \u001b[0;32mIn[64], line 1\u001b[0m\n\u001b[0;32m----> 1\u001b[0m \u001b[43mcs\u001b[49m\u001b[38;5;241;43m.\u001b[39;49m\u001b[43mexecute\u001b[49m\u001b[43m(\u001b[49m\u001b[38;5;124;43m\"\u001b[39;49m\u001b[38;5;124;43mUSE DATABASE WEATHER_ENVIRONMENT;\u001b[39;49m\u001b[38;5;124;43m\"\u001b[39;49m\u001b[43m)\u001b[49m\n\u001b[1;32m      3\u001b[0m a \u001b[38;5;241m=\u001b[39m \u001b[38;5;124m\"\"\"\u001b[39m\u001b[38;5;124mSELECT *\u001b[39m\n\u001b[1;32m      4\u001b[0m \u001b[38;5;124mFROM WEATHER_ENVIRONMENT.CYBERSYN.NOAA_WEATHER_METRICS_TIMESERIES;\u001b[39m\u001b[38;5;124m\"\"\"\u001b[39m\n",
      "File \u001b[0;32m/opt/conda/lib/python3.11/site-packages/snowflake/connector/cursor.py:1087\u001b[0m, in \u001b[0;36mSnowflakeCursor.execute\u001b[0;34m(self, command, params, _bind_stage, timeout, _exec_async, _no_retry, _do_reset, _put_callback, _put_azure_callback, _put_callback_output_stream, _get_callback, _get_azure_callback, _get_callback_output_stream, _show_progress_bar, _statement_params, _is_internal, _describe_only, _no_results, _is_put_get, _raise_put_get_error, _force_put_overwrite, _skip_upload_on_content_match, file_stream, num_statements, _dataframe_ast)\u001b[0m\n\u001b[1;32m   1083\u001b[0m     is_integrity_error \u001b[38;5;241m=\u001b[39m (\n\u001b[1;32m   1084\u001b[0m         code \u001b[38;5;241m==\u001b[39m \u001b[38;5;124m\"\u001b[39m\u001b[38;5;124m100072\u001b[39m\u001b[38;5;124m\"\u001b[39m\n\u001b[1;32m   1085\u001b[0m     )  \u001b[38;5;66;03m# NULL result in a non-nullable column\u001b[39;00m\n\u001b[1;32m   1086\u001b[0m     error_class \u001b[38;5;241m=\u001b[39m IntegrityError \u001b[38;5;28;01mif\u001b[39;00m is_integrity_error \u001b[38;5;28;01melse\u001b[39;00m ProgrammingError\n\u001b[0;32m-> 1087\u001b[0m     \u001b[43mError\u001b[49m\u001b[38;5;241;43m.\u001b[39;49m\u001b[43merrorhandler_wrapper\u001b[49m\u001b[43m(\u001b[49m\u001b[38;5;28;43mself\u001b[39;49m\u001b[38;5;241;43m.\u001b[39;49m\u001b[43mconnection\u001b[49m\u001b[43m,\u001b[49m\u001b[43m \u001b[49m\u001b[38;5;28;43mself\u001b[39;49m\u001b[43m,\u001b[49m\u001b[43m \u001b[49m\u001b[43merror_class\u001b[49m\u001b[43m,\u001b[49m\u001b[43m \u001b[49m\u001b[43merrvalue\u001b[49m\u001b[43m)\u001b[49m\n\u001b[1;32m   1088\u001b[0m \u001b[38;5;28;01mreturn\u001b[39;00m \u001b[38;5;28mself\u001b[39m\n",
      "File \u001b[0;32m/opt/conda/lib/python3.11/site-packages/snowflake/connector/errors.py:284\u001b[0m, in \u001b[0;36mError.errorhandler_wrapper\u001b[0;34m(connection, cursor, error_class, error_value)\u001b[0m\n\u001b[1;32m    261\u001b[0m \u001b[38;5;129m@staticmethod\u001b[39m\n\u001b[1;32m    262\u001b[0m \u001b[38;5;28;01mdef\u001b[39;00m \u001b[38;5;21merrorhandler_wrapper\u001b[39m(\n\u001b[1;32m    263\u001b[0m     connection: SnowflakeConnection \u001b[38;5;241m|\u001b[39m \u001b[38;5;28;01mNone\u001b[39;00m,\n\u001b[0;32m   (...)\u001b[0m\n\u001b[1;32m    266\u001b[0m     error_value: \u001b[38;5;28mdict\u001b[39m[\u001b[38;5;28mstr\u001b[39m, Any],\n\u001b[1;32m    267\u001b[0m ) \u001b[38;5;241m-\u001b[39m\u001b[38;5;241m>\u001b[39m \u001b[38;5;28;01mNone\u001b[39;00m:\n\u001b[1;32m    268\u001b[0m \u001b[38;5;250m    \u001b[39m\u001b[38;5;124;03m\"\"\"Error handler wrapper that calls the errorhandler method.\u001b[39;00m\n\u001b[1;32m    269\u001b[0m \n\u001b[1;32m    270\u001b[0m \u001b[38;5;124;03m    Args:\u001b[39;00m\n\u001b[0;32m   (...)\u001b[0m\n\u001b[1;32m    281\u001b[0m \u001b[38;5;124;03m        exception to the first handler in that order.\u001b[39;00m\n\u001b[1;32m    282\u001b[0m \u001b[38;5;124;03m    \"\"\"\u001b[39;00m\n\u001b[0;32m--> 284\u001b[0m     handed_over \u001b[38;5;241m=\u001b[39m \u001b[43mError\u001b[49m\u001b[38;5;241;43m.\u001b[39;49m\u001b[43mhand_to_other_handler\u001b[49m\u001b[43m(\u001b[49m\n\u001b[1;32m    285\u001b[0m \u001b[43m        \u001b[49m\u001b[43mconnection\u001b[49m\u001b[43m,\u001b[49m\n\u001b[1;32m    286\u001b[0m \u001b[43m        \u001b[49m\u001b[43mcursor\u001b[49m\u001b[43m,\u001b[49m\n\u001b[1;32m    287\u001b[0m \u001b[43m        \u001b[49m\u001b[43merror_class\u001b[49m\u001b[43m,\u001b[49m\n\u001b[1;32m    288\u001b[0m \u001b[43m        \u001b[49m\u001b[43merror_value\u001b[49m\u001b[43m,\u001b[49m\n\u001b[1;32m    289\u001b[0m \u001b[43m    \u001b[49m\u001b[43m)\u001b[49m\n\u001b[1;32m    290\u001b[0m     \u001b[38;5;28;01mif\u001b[39;00m \u001b[38;5;129;01mnot\u001b[39;00m handed_over:\n\u001b[1;32m    291\u001b[0m         \u001b[38;5;28;01mraise\u001b[39;00m Error\u001b[38;5;241m.\u001b[39merrorhandler_make_exception(\n\u001b[1;32m    292\u001b[0m             error_class,\n\u001b[1;32m    293\u001b[0m             error_value,\n\u001b[1;32m    294\u001b[0m         )\n",
      "File \u001b[0;32m/opt/conda/lib/python3.11/site-packages/snowflake/connector/errors.py:339\u001b[0m, in \u001b[0;36mError.hand_to_other_handler\u001b[0;34m(connection, cursor, error_class, error_value)\u001b[0m\n\u001b[1;32m    337\u001b[0m \u001b[38;5;28;01mif\u001b[39;00m cursor \u001b[38;5;129;01mis\u001b[39;00m \u001b[38;5;129;01mnot\u001b[39;00m \u001b[38;5;28;01mNone\u001b[39;00m:\n\u001b[1;32m    338\u001b[0m     cursor\u001b[38;5;241m.\u001b[39mmessages\u001b[38;5;241m.\u001b[39mappend((error_class, error_value))\n\u001b[0;32m--> 339\u001b[0m     \u001b[43mcursor\u001b[49m\u001b[38;5;241;43m.\u001b[39;49m\u001b[43merrorhandler\u001b[49m\u001b[43m(\u001b[49m\u001b[43mconnection\u001b[49m\u001b[43m,\u001b[49m\u001b[43m \u001b[49m\u001b[43mcursor\u001b[49m\u001b[43m,\u001b[49m\u001b[43m \u001b[49m\u001b[43merror_class\u001b[49m\u001b[43m,\u001b[49m\u001b[43m \u001b[49m\u001b[43merror_value\u001b[49m\u001b[43m)\u001b[49m\n\u001b[1;32m    340\u001b[0m     \u001b[38;5;28;01mreturn\u001b[39;00m \u001b[38;5;28;01mTrue\u001b[39;00m\n\u001b[1;32m    341\u001b[0m \u001b[38;5;28;01melif\u001b[39;00m connection \u001b[38;5;129;01mis\u001b[39;00m \u001b[38;5;129;01mnot\u001b[39;00m \u001b[38;5;28;01mNone\u001b[39;00m:\n",
      "File \u001b[0;32m/opt/conda/lib/python3.11/site-packages/snowflake/connector/errors.py:215\u001b[0m, in \u001b[0;36mError.default_errorhandler\u001b[0;34m(connection, cursor, error_class, error_value)\u001b[0m\n\u001b[1;32m    213\u001b[0m errno \u001b[38;5;241m=\u001b[39m error_value\u001b[38;5;241m.\u001b[39mget(\u001b[38;5;124m\"\u001b[39m\u001b[38;5;124merrno\u001b[39m\u001b[38;5;124m\"\u001b[39m)\n\u001b[1;32m    214\u001b[0m done_format_msg \u001b[38;5;241m=\u001b[39m error_value\u001b[38;5;241m.\u001b[39mget(\u001b[38;5;124m\"\u001b[39m\u001b[38;5;124mdone_format_msg\u001b[39m\u001b[38;5;124m\"\u001b[39m)\n\u001b[0;32m--> 215\u001b[0m \u001b[38;5;28;01mraise\u001b[39;00m error_class(\n\u001b[1;32m    216\u001b[0m     msg\u001b[38;5;241m=\u001b[39merror_value\u001b[38;5;241m.\u001b[39mget(\u001b[38;5;124m\"\u001b[39m\u001b[38;5;124mmsg\u001b[39m\u001b[38;5;124m\"\u001b[39m),\n\u001b[1;32m    217\u001b[0m     errno\u001b[38;5;241m=\u001b[39m\u001b[38;5;28;01mNone\u001b[39;00m \u001b[38;5;28;01mif\u001b[39;00m errno \u001b[38;5;129;01mis\u001b[39;00m \u001b[38;5;28;01mNone\u001b[39;00m \u001b[38;5;28;01melse\u001b[39;00m \u001b[38;5;28mint\u001b[39m(errno),\n\u001b[1;32m    218\u001b[0m     sqlstate\u001b[38;5;241m=\u001b[39merror_value\u001b[38;5;241m.\u001b[39mget(\u001b[38;5;124m\"\u001b[39m\u001b[38;5;124msqlstate\u001b[39m\u001b[38;5;124m\"\u001b[39m),\n\u001b[1;32m    219\u001b[0m     sfqid\u001b[38;5;241m=\u001b[39merror_value\u001b[38;5;241m.\u001b[39mget(\u001b[38;5;124m\"\u001b[39m\u001b[38;5;124msfqid\u001b[39m\u001b[38;5;124m\"\u001b[39m),\n\u001b[1;32m    220\u001b[0m     query\u001b[38;5;241m=\u001b[39merror_value\u001b[38;5;241m.\u001b[39mget(\u001b[38;5;124m\"\u001b[39m\u001b[38;5;124mquery\u001b[39m\u001b[38;5;124m\"\u001b[39m),\n\u001b[1;32m    221\u001b[0m     done_format_msg\u001b[38;5;241m=\u001b[39m(\n\u001b[1;32m    222\u001b[0m         \u001b[38;5;28;01mNone\u001b[39;00m \u001b[38;5;28;01mif\u001b[39;00m done_format_msg \u001b[38;5;129;01mis\u001b[39;00m \u001b[38;5;28;01mNone\u001b[39;00m \u001b[38;5;28;01melse\u001b[39;00m \u001b[38;5;28mbool\u001b[39m(done_format_msg)\n\u001b[1;32m    223\u001b[0m     ),\n\u001b[1;32m    224\u001b[0m     connection\u001b[38;5;241m=\u001b[39mconnection,\n\u001b[1;32m    225\u001b[0m     cursor\u001b[38;5;241m=\u001b[39mcursor,\n\u001b[1;32m    226\u001b[0m )\n",
      "\u001b[0;31mProgrammingError\u001b[0m: 002043 (02000): SQL compilation error:\nObject does not exist, or operation cannot be performed."
     ]
    }
   ],
   "source": [
    "cs.execute(\"USE DATABASE WEATHER_ENVIRONMENT;\")\n",
    "\n",
    "a = \"\"\"SELECT *\n",
    "FROM WEATHER_ENVIRONMENT.CYBERSYN.NOAA_WEATHER_METRICS_TIMESERIES;\"\"\""
   ]
  },
  {
   "cell_type": "code",
   "execution_count": 62,
   "metadata": {},
   "outputs": [
    {
     "ename": "ProgrammingError",
     "evalue": "000008 (0A000): Actual statement count 2 did not match the desired statement count 1.",
     "output_type": "error",
     "traceback": [
      "\u001b[0;31m---------------------------------------------------------------------------\u001b[0m",
      "\u001b[0;31mProgrammingError\u001b[0m                          Traceback (most recent call last)",
      "Cell \u001b[0;32mIn[62], line 1\u001b[0m\n\u001b[0;32m----> 1\u001b[0m \u001b[43mcs\u001b[49m\u001b[38;5;241;43m.\u001b[39;49m\u001b[43mexecute\u001b[49m\u001b[43m(\u001b[49m\u001b[43ma\u001b[49m\u001b[43m)\u001b[49m\n\u001b[1;32m      3\u001b[0m rows \u001b[38;5;241m=\u001b[39m cs\u001b[38;5;241m.\u001b[39mfetchall()\n\u001b[1;32m      5\u001b[0m \u001b[38;5;66;03m# Get the column names from the cursor description\u001b[39;00m\n",
      "File \u001b[0;32m/opt/conda/lib/python3.11/site-packages/snowflake/connector/cursor.py:1087\u001b[0m, in \u001b[0;36mSnowflakeCursor.execute\u001b[0;34m(self, command, params, _bind_stage, timeout, _exec_async, _no_retry, _do_reset, _put_callback, _put_azure_callback, _put_callback_output_stream, _get_callback, _get_azure_callback, _get_callback_output_stream, _show_progress_bar, _statement_params, _is_internal, _describe_only, _no_results, _is_put_get, _raise_put_get_error, _force_put_overwrite, _skip_upload_on_content_match, file_stream, num_statements, _dataframe_ast)\u001b[0m\n\u001b[1;32m   1083\u001b[0m     is_integrity_error \u001b[38;5;241m=\u001b[39m (\n\u001b[1;32m   1084\u001b[0m         code \u001b[38;5;241m==\u001b[39m \u001b[38;5;124m\"\u001b[39m\u001b[38;5;124m100072\u001b[39m\u001b[38;5;124m\"\u001b[39m\n\u001b[1;32m   1085\u001b[0m     )  \u001b[38;5;66;03m# NULL result in a non-nullable column\u001b[39;00m\n\u001b[1;32m   1086\u001b[0m     error_class \u001b[38;5;241m=\u001b[39m IntegrityError \u001b[38;5;28;01mif\u001b[39;00m is_integrity_error \u001b[38;5;28;01melse\u001b[39;00m ProgrammingError\n\u001b[0;32m-> 1087\u001b[0m     \u001b[43mError\u001b[49m\u001b[38;5;241;43m.\u001b[39;49m\u001b[43merrorhandler_wrapper\u001b[49m\u001b[43m(\u001b[49m\u001b[38;5;28;43mself\u001b[39;49m\u001b[38;5;241;43m.\u001b[39;49m\u001b[43mconnection\u001b[49m\u001b[43m,\u001b[49m\u001b[43m \u001b[49m\u001b[38;5;28;43mself\u001b[39;49m\u001b[43m,\u001b[49m\u001b[43m \u001b[49m\u001b[43merror_class\u001b[49m\u001b[43m,\u001b[49m\u001b[43m \u001b[49m\u001b[43merrvalue\u001b[49m\u001b[43m)\u001b[49m\n\u001b[1;32m   1088\u001b[0m \u001b[38;5;28;01mreturn\u001b[39;00m \u001b[38;5;28mself\u001b[39m\n",
      "File \u001b[0;32m/opt/conda/lib/python3.11/site-packages/snowflake/connector/errors.py:284\u001b[0m, in \u001b[0;36mError.errorhandler_wrapper\u001b[0;34m(connection, cursor, error_class, error_value)\u001b[0m\n\u001b[1;32m    261\u001b[0m \u001b[38;5;129m@staticmethod\u001b[39m\n\u001b[1;32m    262\u001b[0m \u001b[38;5;28;01mdef\u001b[39;00m \u001b[38;5;21merrorhandler_wrapper\u001b[39m(\n\u001b[1;32m    263\u001b[0m     connection: SnowflakeConnection \u001b[38;5;241m|\u001b[39m \u001b[38;5;28;01mNone\u001b[39;00m,\n\u001b[0;32m   (...)\u001b[0m\n\u001b[1;32m    266\u001b[0m     error_value: \u001b[38;5;28mdict\u001b[39m[\u001b[38;5;28mstr\u001b[39m, Any],\n\u001b[1;32m    267\u001b[0m ) \u001b[38;5;241m-\u001b[39m\u001b[38;5;241m>\u001b[39m \u001b[38;5;28;01mNone\u001b[39;00m:\n\u001b[1;32m    268\u001b[0m \u001b[38;5;250m    \u001b[39m\u001b[38;5;124;03m\"\"\"Error handler wrapper that calls the errorhandler method.\u001b[39;00m\n\u001b[1;32m    269\u001b[0m \n\u001b[1;32m    270\u001b[0m \u001b[38;5;124;03m    Args:\u001b[39;00m\n\u001b[0;32m   (...)\u001b[0m\n\u001b[1;32m    281\u001b[0m \u001b[38;5;124;03m        exception to the first handler in that order.\u001b[39;00m\n\u001b[1;32m    282\u001b[0m \u001b[38;5;124;03m    \"\"\"\u001b[39;00m\n\u001b[0;32m--> 284\u001b[0m     handed_over \u001b[38;5;241m=\u001b[39m \u001b[43mError\u001b[49m\u001b[38;5;241;43m.\u001b[39;49m\u001b[43mhand_to_other_handler\u001b[49m\u001b[43m(\u001b[49m\n\u001b[1;32m    285\u001b[0m \u001b[43m        \u001b[49m\u001b[43mconnection\u001b[49m\u001b[43m,\u001b[49m\n\u001b[1;32m    286\u001b[0m \u001b[43m        \u001b[49m\u001b[43mcursor\u001b[49m\u001b[43m,\u001b[49m\n\u001b[1;32m    287\u001b[0m \u001b[43m        \u001b[49m\u001b[43merror_class\u001b[49m\u001b[43m,\u001b[49m\n\u001b[1;32m    288\u001b[0m \u001b[43m        \u001b[49m\u001b[43merror_value\u001b[49m\u001b[43m,\u001b[49m\n\u001b[1;32m    289\u001b[0m \u001b[43m    \u001b[49m\u001b[43m)\u001b[49m\n\u001b[1;32m    290\u001b[0m     \u001b[38;5;28;01mif\u001b[39;00m \u001b[38;5;129;01mnot\u001b[39;00m handed_over:\n\u001b[1;32m    291\u001b[0m         \u001b[38;5;28;01mraise\u001b[39;00m Error\u001b[38;5;241m.\u001b[39merrorhandler_make_exception(\n\u001b[1;32m    292\u001b[0m             error_class,\n\u001b[1;32m    293\u001b[0m             error_value,\n\u001b[1;32m    294\u001b[0m         )\n",
      "File \u001b[0;32m/opt/conda/lib/python3.11/site-packages/snowflake/connector/errors.py:339\u001b[0m, in \u001b[0;36mError.hand_to_other_handler\u001b[0;34m(connection, cursor, error_class, error_value)\u001b[0m\n\u001b[1;32m    337\u001b[0m \u001b[38;5;28;01mif\u001b[39;00m cursor \u001b[38;5;129;01mis\u001b[39;00m \u001b[38;5;129;01mnot\u001b[39;00m \u001b[38;5;28;01mNone\u001b[39;00m:\n\u001b[1;32m    338\u001b[0m     cursor\u001b[38;5;241m.\u001b[39mmessages\u001b[38;5;241m.\u001b[39mappend((error_class, error_value))\n\u001b[0;32m--> 339\u001b[0m     \u001b[43mcursor\u001b[49m\u001b[38;5;241;43m.\u001b[39;49m\u001b[43merrorhandler\u001b[49m\u001b[43m(\u001b[49m\u001b[43mconnection\u001b[49m\u001b[43m,\u001b[49m\u001b[43m \u001b[49m\u001b[43mcursor\u001b[49m\u001b[43m,\u001b[49m\u001b[43m \u001b[49m\u001b[43merror_class\u001b[49m\u001b[43m,\u001b[49m\u001b[43m \u001b[49m\u001b[43merror_value\u001b[49m\u001b[43m)\u001b[49m\n\u001b[1;32m    340\u001b[0m     \u001b[38;5;28;01mreturn\u001b[39;00m \u001b[38;5;28;01mTrue\u001b[39;00m\n\u001b[1;32m    341\u001b[0m \u001b[38;5;28;01melif\u001b[39;00m connection \u001b[38;5;129;01mis\u001b[39;00m \u001b[38;5;129;01mnot\u001b[39;00m \u001b[38;5;28;01mNone\u001b[39;00m:\n",
      "File \u001b[0;32m/opt/conda/lib/python3.11/site-packages/snowflake/connector/errors.py:215\u001b[0m, in \u001b[0;36mError.default_errorhandler\u001b[0;34m(connection, cursor, error_class, error_value)\u001b[0m\n\u001b[1;32m    213\u001b[0m errno \u001b[38;5;241m=\u001b[39m error_value\u001b[38;5;241m.\u001b[39mget(\u001b[38;5;124m\"\u001b[39m\u001b[38;5;124merrno\u001b[39m\u001b[38;5;124m\"\u001b[39m)\n\u001b[1;32m    214\u001b[0m done_format_msg \u001b[38;5;241m=\u001b[39m error_value\u001b[38;5;241m.\u001b[39mget(\u001b[38;5;124m\"\u001b[39m\u001b[38;5;124mdone_format_msg\u001b[39m\u001b[38;5;124m\"\u001b[39m)\n\u001b[0;32m--> 215\u001b[0m \u001b[38;5;28;01mraise\u001b[39;00m error_class(\n\u001b[1;32m    216\u001b[0m     msg\u001b[38;5;241m=\u001b[39merror_value\u001b[38;5;241m.\u001b[39mget(\u001b[38;5;124m\"\u001b[39m\u001b[38;5;124mmsg\u001b[39m\u001b[38;5;124m\"\u001b[39m),\n\u001b[1;32m    217\u001b[0m     errno\u001b[38;5;241m=\u001b[39m\u001b[38;5;28;01mNone\u001b[39;00m \u001b[38;5;28;01mif\u001b[39;00m errno \u001b[38;5;129;01mis\u001b[39;00m \u001b[38;5;28;01mNone\u001b[39;00m \u001b[38;5;28;01melse\u001b[39;00m \u001b[38;5;28mint\u001b[39m(errno),\n\u001b[1;32m    218\u001b[0m     sqlstate\u001b[38;5;241m=\u001b[39merror_value\u001b[38;5;241m.\u001b[39mget(\u001b[38;5;124m\"\u001b[39m\u001b[38;5;124msqlstate\u001b[39m\u001b[38;5;124m\"\u001b[39m),\n\u001b[1;32m    219\u001b[0m     sfqid\u001b[38;5;241m=\u001b[39merror_value\u001b[38;5;241m.\u001b[39mget(\u001b[38;5;124m\"\u001b[39m\u001b[38;5;124msfqid\u001b[39m\u001b[38;5;124m\"\u001b[39m),\n\u001b[1;32m    220\u001b[0m     query\u001b[38;5;241m=\u001b[39merror_value\u001b[38;5;241m.\u001b[39mget(\u001b[38;5;124m\"\u001b[39m\u001b[38;5;124mquery\u001b[39m\u001b[38;5;124m\"\u001b[39m),\n\u001b[1;32m    221\u001b[0m     done_format_msg\u001b[38;5;241m=\u001b[39m(\n\u001b[1;32m    222\u001b[0m         \u001b[38;5;28;01mNone\u001b[39;00m \u001b[38;5;28;01mif\u001b[39;00m done_format_msg \u001b[38;5;129;01mis\u001b[39;00m \u001b[38;5;28;01mNone\u001b[39;00m \u001b[38;5;28;01melse\u001b[39;00m \u001b[38;5;28mbool\u001b[39m(done_format_msg)\n\u001b[1;32m    223\u001b[0m     ),\n\u001b[1;32m    224\u001b[0m     connection\u001b[38;5;241m=\u001b[39mconnection,\n\u001b[1;32m    225\u001b[0m     cursor\u001b[38;5;241m=\u001b[39mcursor,\n\u001b[1;32m    226\u001b[0m )\n",
      "\u001b[0;31mProgrammingError\u001b[0m: 000008 (0A000): Actual statement count 2 did not match the desired statement count 1."
     ]
    }
   ],
   "source": [
    "cs.execute(a)\n",
    "\n",
    "rows = cs.fetchall()\n",
    "\n",
    "# Get the column names from the cursor description\n",
    "columns = [desc[0] for desc in cs.description]\n",
    "\n",
    "# Create a pandas DataFrame\n",
    "df = pd.DataFrame(rows, columns=columns)\n",
    "\n",
    "# Display the DataFrame (this automatically displays as a table in Jupyter or some IDEs)\n",
    "print(df)"
   ]
  }
 ],
 "metadata": {
  "kernelspec": {
   "display_name": "base",
   "language": "python",
   "name": "python3"
  },
  "language_info": {
   "codemirror_mode": {
    "name": "ipython",
    "version": 3
   },
   "file_extension": ".py",
   "mimetype": "text/x-python",
   "name": "python",
   "nbconvert_exporter": "python",
   "pygments_lexer": "ipython3",
   "version": "3.11.7"
  }
 },
 "nbformat": 4,
 "nbformat_minor": 2
}
